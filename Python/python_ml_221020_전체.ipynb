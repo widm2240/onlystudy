{
  "cells": [
    {
      "cell_type": "markdown",
      "metadata": {
        "id": "Y44HApCJxBpp"
      },
      "source": [
        "## 교차검증 & 샘플링 & 그리드 서치\n",
        "- 정확하다! 정확도를 올린다! (X)\n",
        "- Accuracy Better Model (X) \n",
        "- Accuracy Stable Model (O)"
      ]
    },
    {
      "cell_type": "code",
      "execution_count": 1,
      "metadata": {
        "id": "hVoUW8IFw_im"
      },
      "outputs": [],
      "source": [
        "import pandas as pd\n",
        "wine = pd.read_csv('https://bit.ly/wine_csv_data') "
      ]
    },
    {
      "cell_type": "markdown",
      "metadata": {
        "id": "MWvCuoVxyhIo"
      },
      "source": [
        "### Input & Target로 1차 분리"
      ]
    },
    {
      "cell_type": "code",
      "execution_count": 2,
      "metadata": {
        "id": "tS_W79Znygph"
      },
      "outputs": [],
      "source": [
        "data = wine[['alcohol', 'sugar', 'pH']].to_numpy()\n",
        "target = wine['class'].to_numpy() "
      ]
    },
    {
      "cell_type": "markdown",
      "metadata": {
        "id": "LK9JZZcSy9a8"
      },
      "source": [
        "### 세트 분리\n",
        "- 기존) : train/test 세트로 분리\n",
        "- 지금) : train/valid/test 세트로 분리"
      ]
    },
    {
      "cell_type": "markdown",
      "metadata": {
        "id": "J-vTKiOlzVR_"
      },
      "source": [
        "- train/test 8:2로 분리"
      ]
    },
    {
      "cell_type": "code",
      "execution_count": 3,
      "metadata": {
        "colab": {
          "base_uri": "https://localhost:8080/"
        },
        "id": "B10y08_bysHw",
        "outputId": "b4be2508-a191-4d4a-cc51-00027466f07c"
      },
      "outputs": [
        {
          "data": {
            "text/plain": [
              "((5197, 3), (1300, 3), (5197,), (1300,))"
            ]
          },
          "execution_count": 3,
          "metadata": {},
          "output_type": "execute_result"
        }
      ],
      "source": [
        "from sklearn.model_selection import train_test_split \n",
        "train_input, test_input, train_target, test_target = train_test_split(\n",
        "    data, target, test_size=0.2, random_state=42\n",
        ")\n",
        "\n",
        "train_input.shape, test_input.shape, train_target.shape, test_target.shape"
      ]
    },
    {
      "cell_type": "code",
      "execution_count": 4,
      "metadata": {
        "colab": {
          "base_uri": "https://localhost:8080/"
        },
        "id": "fs6t12miztnk",
        "outputId": "8549951f-9762-4bfd-a9a8-280a848a3027"
      },
      "outputs": [
        {
          "data": {
            "text/plain": [
              "((4157, 3), (1040, 3), (4157,), (1040,))"
            ]
          },
          "execution_count": 4,
          "metadata": {},
          "output_type": "execute_result"
        }
      ],
      "source": [
        "sub_input, val_input, sub_target, val_target = train_test_split(\n",
        "    train_input, train_target, test_size = 0.2, random_state=42\n",
        ")\n",
        "\n",
        "sub_input.shape, val_input.shape, sub_target.shape, val_target.shape"
      ]
    },
    {
      "cell_type": "markdown",
      "metadata": {
        "id": "H5ecTv2D0c2c"
      },
      "source": [
        "- 모형 만들고, 모형 평가\n",
        "  + 기존) test 데이터를 바로 평가 (unseen data) / 미래에 올 데이터\n",
        "  + 지금) val 데이터만 평가"
      ]
    },
    {
      "cell_type": "code",
      "execution_count": 5,
      "metadata": {
        "colab": {
          "base_uri": "https://localhost:8080/"
        },
        "id": "wlTQN4-y05T9",
        "outputId": "73c75cd0-8c72-41c8-e9cf-98b966132501"
      },
      "outputs": [
        {
          "name": "stdout",
          "output_type": "stream",
          "text": [
            "0.9971133028626413\n",
            "0.864423076923077\n"
          ]
        }
      ],
      "source": [
        "from sklearn.tree import DecisionTreeClassifier\n",
        "\n",
        "dt = DecisionTreeClassifier(random_state=42)\n",
        "dt.fit(sub_input, sub_target)\n",
        "\n",
        "print(dt.score(sub_input, sub_target))\n",
        "print(dt.score(val_input, val_target))"
      ]
    },
    {
      "cell_type": "markdown",
      "metadata": {
        "id": "fj_Z6o9d109g"
      },
      "source": [
        "## 교차검증"
      ]
    },
    {
      "cell_type": "code",
      "execution_count": 6,
      "metadata": {
        "colab": {
          "base_uri": "https://localhost:8080/"
        },
        "id": "pEp1IiBp125I",
        "outputId": "1cc75b38-c77f-417d-e0e3-6c37481c172e"
      },
      "outputs": [
        {
          "name": "stdout",
          "output_type": "stream",
          "text": [
            "{'fit_time': array([0.00867653, 0.00709176, 0.00729942, 0.0071969 , 0.0068233 ]), 'score_time': array([0.00071549, 0.00063205, 0.0006032 , 0.00061083, 0.00056696]), 'test_score': array([0.86923077, 0.84615385, 0.87680462, 0.84889317, 0.83541867])}\n"
          ]
        }
      ],
      "source": [
        "from sklearn.model_selection import cross_validate \n",
        "scores = cross_validate(dt, train_input, train_target)\n",
        "\n",
        "print(scores)"
      ]
    },
    {
      "cell_type": "code",
      "execution_count": 7,
      "metadata": {
        "colab": {
          "base_uri": "https://localhost:8080/"
        },
        "id": "B63rCDNl2KdJ",
        "outputId": "e44d6b59-52e6-4d97-fa4c-a3e98c4ab5ff"
      },
      "outputs": [
        {
          "data": {
            "text/plain": [
              "array([0.86923077, 0.84615385, 0.87680462, 0.84889317, 0.83541867])"
            ]
          },
          "execution_count": 7,
          "metadata": {},
          "output_type": "execute_result"
        }
      ],
      "source": [
        "scores['test_score']"
      ]
    },
    {
      "cell_type": "code",
      "execution_count": 8,
      "metadata": {
        "colab": {
          "base_uri": "https://localhost:8080/"
        },
        "id": "3X9NUP4L2SIp",
        "outputId": "1b26f907-f89c-410c-a097-6e3046f01123"
      },
      "outputs": [
        {
          "data": {
            "text/plain": [
              "0.855300214703487"
            ]
          },
          "execution_count": 8,
          "metadata": {},
          "output_type": "execute_result"
        }
      ],
      "source": [
        "import numpy as np\n",
        "\n",
        "# 검증 데이터 점수\n",
        "np.mean(scores['test_score'])"
      ]
    },
    {
      "cell_type": "markdown",
      "metadata": {
        "id": "zme1NFBL6XaK"
      },
      "source": [
        "- StratifiedKFold 활용\n",
        "  + 통계용어 : 층화추출  (비율에 근거해서 추출하기) \n",
        "- 기존 방법 : 임의 추출 방식 (무작위 방식)\n",
        "- 분류모형\n",
        "  + 분류기준 / 레드와인 갯수, 화이트와인 갯수\n",
        "  \n",
        "\n"
      ]
    },
    {
      "cell_type": "code",
      "execution_count": 9,
      "metadata": {
        "colab": {
          "base_uri": "https://localhost:8080/"
        },
        "id": "Iv5d4MAL8fPZ",
        "outputId": "7418fbde-03d7-4e75-88c9-3f7781e8d96c"
      },
      "outputs": [
        {
          "name": "stdout",
          "output_type": "stream",
          "text": [
            "0.855300214703487\n"
          ]
        }
      ],
      "source": [
        "from sklearn.model_selection import StratifiedKFold \n",
        "scores = cross_validate(dt, train_input, train_target, cv=StratifiedKFold())\n",
        "print(np.mean(scores['test_score']))"
      ]
    },
    {
      "cell_type": "markdown",
      "metadata": {
        "id": "DdQsb0ju85kj"
      },
      "source": [
        "- StratifiedKFold() 세부 옵션 지정"
      ]
    },
    {
      "cell_type": "code",
      "execution_count": 10,
      "metadata": {
        "colab": {
          "base_uri": "https://localhost:8080/"
        },
        "id": "wqZg5_vb89aK",
        "outputId": "c4f81e41-6b11-4d4e-91c9-a5fd6463b2a5"
      },
      "outputs": [
        {
          "name": "stdout",
          "output_type": "stream",
          "text": [
            "0.8574181117533719\n"
          ]
        }
      ],
      "source": [
        "# n_splits : 몇번 교차 검증 할건지 숫자 10\n",
        "splitter = StratifiedKFold(n_splits=10, shuffle=True, random_state=42)\n",
        "scores = cross_validate(dt, train_input, train_target, cv=splitter)\n",
        "print(np.mean(scores['test_score']))"
      ]
    },
    {
      "cell_type": "markdown",
      "metadata": {
        "id": "ihi5rqtn9eBO"
      },
      "source": [
        "## 하이퍼파라미터의 개념\n",
        "- 기존) 수동으로 조정, 하나씩 값을 확인하는 형태\n",
        "  - ridge(), Lasso(), alpha값 조정\n",
        "  - decision tree, max_depth 값 조정\n",
        "\n",
        "- 지금) 자동화개발 --> 머신러닝 엔지니어"
      ]
    },
    {
      "cell_type": "code",
      "execution_count": 11,
      "metadata": {
        "colab": {
          "base_uri": "https://localhost:8080/"
        },
        "id": "cvpm6rqT-jDn",
        "outputId": "57280a69-0f2f-44d5-d4cb-23108c753747"
      },
      "outputs": [
        {
          "data": {
            "text/plain": [
              "GridSearchCV(estimator=DecisionTreeClassifier(random_state=42), n_jobs=-1,\n",
              "             param_grid={'max_depth': [2, 3, 4, 5, 6, 7]})"
            ]
          },
          "execution_count": 11,
          "metadata": {},
          "output_type": "execute_result"
        }
      ],
      "source": [
        "from sklearn.model_selection import GridSearchCV\n",
        "\n",
        "# 모형 만들기\n",
        "dt = DecisionTreeClassifier(random_state=42)\n",
        "\n",
        "# 하이퍼파라미터 투입\n",
        "params = {'max_depth' : [2, 3, 4, 5, 6, 7]}\n",
        "gs = GridSearchCV(dt, params, n_jobs=-1)\n",
        "\n",
        "# 모형 학습 --> 7번 수행\n",
        "gs.fit(train_input, train_target)"
      ]
    },
    {
      "cell_type": "markdown",
      "metadata": {
        "id": "7cFU947-_WAp"
      },
      "source": [
        "- 가장 최적화된 max_depth 확인"
      ]
    },
    {
      "cell_type": "code",
      "execution_count": 12,
      "metadata": {
        "colab": {
          "base_uri": "https://localhost:8080/"
        },
        "id": "5iFK4iJz_Zhz",
        "outputId": "ef3f2bcd-ce30-468c-c7e9-70eb6047fb37"
      },
      "outputs": [
        {
          "name": "stdout",
          "output_type": "stream",
          "text": [
            "{'max_depth': 5}\n"
          ]
        }
      ],
      "source": [
        "print(gs.best_params_)"
      ]
    },
    {
      "cell_type": "code",
      "execution_count": 13,
      "metadata": {
        "colab": {
          "base_uri": "https://localhost:8080/"
        },
        "id": "KBPhKjx0_jkz",
        "outputId": "ad91e957-3e38-4ebe-ad15-f004d8b4869b"
      },
      "outputs": [
        {
          "name": "stdout",
          "output_type": "stream",
          "text": [
            "0.8672310948624207\n"
          ]
        }
      ],
      "source": [
        "best_dt = gs.best_estimator_ \n",
        "print(best_dt.score(train_input, train_target))"
      ]
    },
    {
      "cell_type": "code",
      "execution_count": 14,
      "metadata": {
        "colab": {
          "base_uri": "https://localhost:8080/",
          "height": 237
        },
        "id": "aYz4Z2h4_6hT",
        "outputId": "fef33697-e9cb-4da5-9bbd-b16269ab5817"
      },
      "outputs": [
        {
          "data": {
            "text/html": [
              "\n",
              "  <div id=\"df-70b004e8-2fd8-4c9e-9a33-c351883d1b6f\">\n",
              "    <div class=\"colab-df-container\">\n",
              "      <div>\n",
              "<style scoped>\n",
              "    .dataframe tbody tr th:only-of-type {\n",
              "        vertical-align: middle;\n",
              "    }\n",
              "\n",
              "    .dataframe tbody tr th {\n",
              "        vertical-align: top;\n",
              "    }\n",
              "\n",
              "    .dataframe thead th {\n",
              "        text-align: right;\n",
              "    }\n",
              "</style>\n",
              "<table border=\"1\" class=\"dataframe\">\n",
              "  <thead>\n",
              "    <tr style=\"text-align: right;\">\n",
              "      <th></th>\n",
              "      <th>max_depth</th>\n",
              "      <th>score</th>\n",
              "    </tr>\n",
              "  </thead>\n",
              "  <tbody>\n",
              "    <tr>\n",
              "      <th>0</th>\n",
              "      <td>2</td>\n",
              "      <td>0.813936</td>\n",
              "    </tr>\n",
              "    <tr>\n",
              "      <th>1</th>\n",
              "      <td>3</td>\n",
              "      <td>0.841256</td>\n",
              "    </tr>\n",
              "    <tr>\n",
              "      <th>2</th>\n",
              "      <td>4</td>\n",
              "      <td>0.853378</td>\n",
              "    </tr>\n",
              "    <tr>\n",
              "      <th>3</th>\n",
              "      <td>5</td>\n",
              "      <td>0.857804</td>\n",
              "    </tr>\n",
              "    <tr>\n",
              "      <th>4</th>\n",
              "      <td>6</td>\n",
              "      <td>0.855880</td>\n",
              "    </tr>\n",
              "    <tr>\n",
              "      <th>5</th>\n",
              "      <td>7</td>\n",
              "      <td>0.855301</td>\n",
              "    </tr>\n",
              "  </tbody>\n",
              "</table>\n",
              "</div>\n",
              "      <button class=\"colab-df-convert\" onclick=\"convertToInteractive('df-70b004e8-2fd8-4c9e-9a33-c351883d1b6f')\"\n",
              "              title=\"Convert this dataframe to an interactive table.\"\n",
              "              style=\"display:none;\">\n",
              "        \n",
              "  <svg xmlns=\"http://www.w3.org/2000/svg\" height=\"24px\"viewBox=\"0 0 24 24\"\n",
              "       width=\"24px\">\n",
              "    <path d=\"M0 0h24v24H0V0z\" fill=\"none\"/>\n",
              "    <path d=\"M18.56 5.44l.94 2.06.94-2.06 2.06-.94-2.06-.94-.94-2.06-.94 2.06-2.06.94zm-11 1L8.5 8.5l.94-2.06 2.06-.94-2.06-.94L8.5 2.5l-.94 2.06-2.06.94zm10 10l.94 2.06.94-2.06 2.06-.94-2.06-.94-.94-2.06-.94 2.06-2.06.94z\"/><path d=\"M17.41 7.96l-1.37-1.37c-.4-.4-.92-.59-1.43-.59-.52 0-1.04.2-1.43.59L10.3 9.45l-7.72 7.72c-.78.78-.78 2.05 0 2.83L4 21.41c.39.39.9.59 1.41.59.51 0 1.02-.2 1.41-.59l7.78-7.78 2.81-2.81c.8-.78.8-2.07 0-2.86zM5.41 20L4 18.59l7.72-7.72 1.47 1.35L5.41 20z\"/>\n",
              "  </svg>\n",
              "      </button>\n",
              "      \n",
              "  <style>\n",
              "    .colab-df-container {\n",
              "      display:flex;\n",
              "      flex-wrap:wrap;\n",
              "      gap: 12px;\n",
              "    }\n",
              "\n",
              "    .colab-df-convert {\n",
              "      background-color: #E8F0FE;\n",
              "      border: none;\n",
              "      border-radius: 50%;\n",
              "      cursor: pointer;\n",
              "      display: none;\n",
              "      fill: #1967D2;\n",
              "      height: 32px;\n",
              "      padding: 0 0 0 0;\n",
              "      width: 32px;\n",
              "    }\n",
              "\n",
              "    .colab-df-convert:hover {\n",
              "      background-color: #E2EBFA;\n",
              "      box-shadow: 0px 1px 2px rgba(60, 64, 67, 0.3), 0px 1px 3px 1px rgba(60, 64, 67, 0.15);\n",
              "      fill: #174EA6;\n",
              "    }\n",
              "\n",
              "    [theme=dark] .colab-df-convert {\n",
              "      background-color: #3B4455;\n",
              "      fill: #D2E3FC;\n",
              "    }\n",
              "\n",
              "    [theme=dark] .colab-df-convert:hover {\n",
              "      background-color: #434B5C;\n",
              "      box-shadow: 0px 1px 3px 1px rgba(0, 0, 0, 0.15);\n",
              "      filter: drop-shadow(0px 1px 2px rgba(0, 0, 0, 0.3));\n",
              "      fill: #FFFFFF;\n",
              "    }\n",
              "  </style>\n",
              "\n",
              "      <script>\n",
              "        const buttonEl =\n",
              "          document.querySelector('#df-70b004e8-2fd8-4c9e-9a33-c351883d1b6f button.colab-df-convert');\n",
              "        buttonEl.style.display =\n",
              "          google.colab.kernel.accessAllowed ? 'block' : 'none';\n",
              "\n",
              "        async function convertToInteractive(key) {\n",
              "          const element = document.querySelector('#df-70b004e8-2fd8-4c9e-9a33-c351883d1b6f');\n",
              "          const dataTable =\n",
              "            await google.colab.kernel.invokeFunction('convertToInteractive',\n",
              "                                                     [key], {});\n",
              "          if (!dataTable) return;\n",
              "\n",
              "          const docLinkHtml = 'Like what you see? Visit the ' +\n",
              "            '<a target=\"_blank\" href=https://colab.research.google.com/notebooks/data_table.ipynb>data table notebook</a>'\n",
              "            + ' to learn more about interactive tables.';\n",
              "          element.innerHTML = '';\n",
              "          dataTable['output_type'] = 'display_data';\n",
              "          await google.colab.output.renderOutput(dataTable, element);\n",
              "          const docLink = document.createElement('div');\n",
              "          docLink.innerHTML = docLinkHtml;\n",
              "          element.appendChild(docLink);\n",
              "        }\n",
              "      </script>\n",
              "    </div>\n",
              "  </div>\n",
              "  "
            ],
            "text/plain": [
              "   max_depth     score\n",
              "0          2  0.813936\n",
              "1          3  0.841256\n",
              "2          4  0.853378\n",
              "3          5  0.857804\n",
              "4          6  0.855880\n",
              "5          7  0.855301"
            ]
          },
          "execution_count": 14,
          "metadata": {},
          "output_type": "execute_result"
        }
      ],
      "source": [
        "gs.cv_results_['mean_test_score']\n",
        "\n",
        "result = pd.DataFrame({\n",
        "    'max_depth' : [2, 3, 4, 5, 6, 7], \n",
        "    'score' : gs.cv_results_['mean_test_score']\n",
        "})\n",
        "\n",
        "result"
      ]
    },
    {
      "cell_type": "code",
      "execution_count": 15,
      "metadata": {
        "colab": {
          "base_uri": "https://localhost:8080/"
        },
        "id": "wOK-hVODBEbu",
        "outputId": "074df8d6-4f61-4d62-98f8-944df727e736"
      },
      "outputs": [
        {
          "name": "stdout",
          "output_type": "stream",
          "text": [
            "{'max_depth': 7, 'min_impurity_decrease': 0.0001, 'min_samples_split': 92}\n",
            "0.8793534731575909\n"
          ]
        }
      ],
      "source": [
        "# 하이퍼파라미터 투입\n",
        "params = {'max_depth' : [2, 3, 4, 5, 6, 7], \n",
        "          # 노드 분할 시, 불순도 감소 최저량 지정\n",
        "          'min_impurity_decrease' : np.arange(0.0001, 0.001, 0.01), \n",
        "          'min_samples_split' : range(2, 1000, 10)\n",
        "          } \n",
        "\n",
        "gs = GridSearchCV(dt, params, n_jobs=-1)\n",
        "\n",
        "# 모형 학습 --> 7번 수행\n",
        "gs.fit(train_input, train_target)\n",
        "\n",
        "print(gs.best_params_)\n",
        "\n",
        "best_dt = gs.best_estimator_ \n",
        "print(best_dt.score(train_input, train_target))"
      ]
    },
    {
      "cell_type": "markdown",
      "metadata": {
        "id": "yCJeSF6hICwI"
      },
      "source": [
        "## 랜덤 서치\n",
        "- 매개변수 값의 목록을 전달하는 것이 아님\n",
        "- 매개변수가 샘플링할 수 있는 객체를 전달. "
      ]
    },
    {
      "cell_type": "code",
      "execution_count": 16,
      "metadata": {
        "colab": {
          "base_uri": "https://localhost:8080/"
        },
        "id": "gPt7sGp-IonR",
        "outputId": "33e65bd8-9cff-475b-81c3-fdfce99d2b61"
      },
      "outputs": [
        {
          "data": {
            "text/plain": [
              "(array([0, 1, 2, 3, 4, 5, 6, 7, 8, 9]),\n",
              " array([11,  7,  9, 10, 12,  5, 18,  5, 12, 11]))"
            ]
          },
          "execution_count": 16,
          "metadata": {},
          "output_type": "execute_result"
        }
      ],
      "source": [
        "from scipy.stats import uniform, randint \n",
        "\n",
        "rgen = randint(0, 10)\n",
        "np.unique(rgen.rvs(100), return_counts = True)"
      ]
    },
    {
      "cell_type": "markdown",
      "metadata": {
        "id": "NThoqZ0PJN0z"
      },
      "source": [
        "- 실수 무작위 추출"
      ]
    },
    {
      "cell_type": "code",
      "execution_count": 17,
      "metadata": {
        "colab": {
          "base_uri": "https://localhost:8080/"
        },
        "id": "JiPSWdicJPKr",
        "outputId": "0d3fd6ff-01ad-4644-e618-34c254a4c71d"
      },
      "outputs": [
        {
          "data": {
            "text/plain": [
              "array([0.80821087, 0.1128859 , 0.43091876, 0.75146953, 0.37173969,\n",
              "       0.34561086, 0.67835193, 0.51234146, 0.54237837, 0.81385721])"
            ]
          },
          "execution_count": 17,
          "metadata": {},
          "output_type": "execute_result"
        }
      ],
      "source": [
        "ugen = uniform(0, 1)\n",
        "ugen.rvs(10)"
      ]
    },
    {
      "cell_type": "code",
      "execution_count": 18,
      "metadata": {
        "colab": {
          "base_uri": "https://localhost:8080/"
        },
        "id": "Mn3zO3geJZgr",
        "outputId": "73337b26-ce3a-43a3-fcaf-a8de5818d478"
      },
      "outputs": [
        {
          "data": {
            "text/plain": [
              "RandomizedSearchCV(estimator=DecisionTreeClassifier(random_state=42),\n",
              "                   n_iter=100, n_jobs=-1,\n",
              "                   param_distributions={'max_depth': <scipy.stats._distn_infrastructure.rv_frozen object at 0x7f5be7f2b050>,\n",
              "                                        'min_impurity_decrease': <scipy.stats._distn_infrastructure.rv_frozen object at 0x7f5be7f2b290>,\n",
              "                                        'min_samples_split': <scipy.stats._distn_infrastructure.rv_frozen object at 0x7f5be7e8a5d0>},\n",
              "                   random_state=42)"
            ]
          },
          "execution_count": 18,
          "metadata": {},
          "output_type": "execute_result"
        }
      ],
      "source": [
        "from sklearn.model_selection import RandomizedSearchCV \n",
        "\n",
        "# 하이퍼파라미터 투입\n",
        "params = {'max_depth' : randint(2, 50), \n",
        "          # 노드 분할 시, 불순도 감소 최저량 지정\n",
        "          'min_impurity_decrease' : uniform(0.0001, 0.1), \n",
        "          'min_samples_split' : randint(2, 50), \n",
        "          }\n",
        "\n",
        "# 모형 만들기\n",
        "dt = DecisionTreeClassifier(random_state=42)\n",
        "\n",
        "# 랜덤서치\n",
        "rs = RandomizedSearchCV(dt, params, n_iter = 100, random_state=42, n_jobs=-1)\n",
        "\n",
        "rs.fit(train_input, train_target) "
      ]
    },
    {
      "cell_type": "code",
      "execution_count": 19,
      "metadata": {
        "colab": {
          "base_uri": "https://localhost:8080/"
        },
        "id": "7lzfwPDjKjBc",
        "outputId": "bd09095f-9346-4a97-ecff-d771fe305e86"
      },
      "outputs": [
        {
          "name": "stdout",
          "output_type": "stream",
          "text": [
            "{'max_depth': 39, 'min_impurity_decrease': 0.00017787658410143285, 'min_samples_split': 22}\n",
            "0.9053299980758129\n"
          ]
        }
      ],
      "source": [
        "print(rs.best_params_)\n",
        "\n",
        "best_dt = rs.best_estimator_ \n",
        "print(best_dt.score(train_input, train_target))"
      ]
    },
    {
      "cell_type": "markdown",
      "metadata": {
        "id": "tCngGc_kPaZM"
      },
      "source": [
        "## 주요 정리\n",
        "- 샘플링 중요 : 데이터가 편향적일 수 있다. \n",
        "- 과대적합 방지 : 하이퍼파라미터 튜닝을 진행한다. \n",
        "  + 그리드 서치 : 비 추천\n",
        "  + 랜덤 서치 : 추천 \n",
        "  + 각 모델의 도움말을 잘 살펴본다. \n",
        "\n",
        "\n"
      ]
    },
    {
      "cell_type": "markdown",
      "metadata": {
        "id": "6FwDuc3VvwjI"
      },
      "source": [
        "## 랜덤포레스트 (Random Forest)\n",
        "- Decision Tree \n",
        "- 데이터 샘플은 무작위로 뽑는다 (행 조정)\n",
        "- 데이터 컬럼 갯수가 매우 많음\n",
        "  + 1천개\n",
        "  + 컬럼 갯수의 조합 (무작위 선택 필요)\n",
        "  + 독립된 모형\n",
        "- 데이터셋이 클 때, 매우 큰 효과 발휘\n"
      ]
    },
    {
      "cell_type": "code",
      "execution_count": 20,
      "metadata": {
        "colab": {
          "base_uri": "https://localhost:8080/"
        },
        "id": "dBgKEwZv0AKx",
        "outputId": "b39acf58-78cf-486f-8ca8-ab3a66b905ab"
      },
      "outputs": [
        {
          "data": {
            "text/plain": [
              "((5197, 3), (1300, 3), (5197,), (1300,))"
            ]
          },
          "execution_count": 20,
          "metadata": {},
          "output_type": "execute_result"
        }
      ],
      "source": [
        "train_input.shape, test_input.shape, train_target.shape, test_target.shape"
      ]
    },
    {
      "cell_type": "code",
      "execution_count": 21,
      "metadata": {
        "colab": {
          "base_uri": "https://localhost:8080/"
        },
        "id": "EsfdS9zp0V3Z",
        "outputId": "d04face3-6d15-471e-dea4-c7a164008dac"
      },
      "outputs": [
        {
          "name": "stdout",
          "output_type": "stream",
          "text": [
            "0.9973541965122431 0.8905151032797809\n"
          ]
        }
      ],
      "source": [
        "from sklearn.model_selection import cross_validate\n",
        "from sklearn.ensemble import RandomForestClassifier\n",
        "\n",
        "rf = RandomForestClassifier(n_jobs=-1, random_state=42)\n",
        "scores = cross_validate(rf, train_input, train_target, return_train_score = True)\n",
        "\n",
        "print(np.mean(scores['train_score']), np.mean(scores['test_score']))"
      ]
    },
    {
      "cell_type": "code",
      "execution_count": 22,
      "metadata": {
        "colab": {
          "base_uri": "https://localhost:8080/"
        },
        "id": "KKLDaeol1H6P",
        "outputId": "c032a4b1-1168-4973-e84b-2d003e121112"
      },
      "outputs": [
        {
          "data": {
            "text/plain": [
              "{'fit_time': array([0.4277885 , 0.40611839, 0.4176116 , 0.40117574, 0.38935065]),\n",
              " 'score_time': array([0.10335398, 0.1025939 , 0.10236073, 0.10233378, 0.10243297]),\n",
              " 'test_score': array([0.88461538, 0.88942308, 0.90279115, 0.88931665, 0.88642926]),\n",
              " 'train_score': array([0.9971133 , 0.99663219, 0.9978355 , 0.9973545 , 0.9978355 ])}"
            ]
          },
          "execution_count": 22,
          "metadata": {},
          "output_type": "execute_result"
        }
      ],
      "source": [
        "scores"
      ]
    },
    {
      "cell_type": "markdown",
      "metadata": {
        "id": "aA0zc7cp1O3x"
      },
      "source": [
        "### 특성 중요도\n",
        "- 각 데이터의 특성(Feature)이 존재. \n",
        "- 현재 사용하는 알고리즘에서 중요도를 표시해주는 것"
      ]
    },
    {
      "cell_type": "code",
      "execution_count": 28,
      "metadata": {
        "colab": {
          "base_uri": "https://localhost:8080/"
        },
        "id": "8wkTfw7O1Qpz",
        "outputId": "19600d4e-3b3d-4d02-fe31-944d747e8c2e"
      },
      "outputs": [
        {
          "name": "stdout",
          "output_type": "stream",
          "text": [
            "[0.23167441 0.50039841 0.26792718]\n"
          ]
        }
      ],
      "source": [
        "rf.fit(train_input, train_target)\n",
        "\n",
        "#  \n",
        "print(rf.feature_importances_)"
      ]
    },
    {
      "cell_type": "markdown",
      "metadata": {
        "id": "i2t5JnTM2dsY"
      },
      "source": [
        "-  알코올 도수     당도       ph\n",
        "- [0.23167441 0.50039841 0.26792718]"
      ]
    },
    {
      "cell_type": "code",
      "execution_count": 30,
      "metadata": {
        "colab": {
          "base_uri": "https://localhost:8080/"
        },
        "id": "foZAAYAM3ZMh",
        "outputId": "3f929469-ece5-4b57-e6fd-27cc83b42131"
      },
      "outputs": [
        {
          "name": "stdout",
          "output_type": "stream",
          "text": [
            "<class 'pandas.core.frame.DataFrame'>\n",
            "RangeIndex: 6497 entries, 0 to 6496\n",
            "Data columns (total 4 columns):\n",
            " #   Column   Non-Null Count  Dtype  \n",
            "---  ------   --------------  -----  \n",
            " 0   alcohol  6497 non-null   float64\n",
            " 1   sugar    6497 non-null   float64\n",
            " 2   pH       6497 non-null   float64\n",
            " 3   class    6497 non-null   float64\n",
            "dtypes: float64(4)\n",
            "memory usage: 203.2 KB\n"
          ]
        }
      ],
      "source": [
        "wine.info()"
      ]
    },
    {
      "cell_type": "code",
      "execution_count": 35,
      "metadata": {
        "colab": {
          "base_uri": "https://localhost:8080/",
          "height": 297
        },
        "id": "rq4aLcMk3Ib_",
        "outputId": "df0c588c-0400-4fef-c05a-76f6b46d23f0"
      },
      "outputs": [
        {
          "data": {
            "text/plain": [
              "<matplotlib.axes._subplots.AxesSubplot at 0x7f5be4161390>"
            ]
          },
          "execution_count": 35,
          "metadata": {},
          "output_type": "execute_result"
        },
        {
          "data": {
            "image/png": "[encoded data removed]",
            "text/plain": [
              "<Figure size 432x288 with 1 Axes>"
            ]
          },
          "metadata": {
            "needs_background": "light"
          },
          "output_type": "display_data"
        }
      ],
      "source": [
        "import seaborn as sns \n",
        "\n",
        "# sns.scatterplot(data = wine, x = 'pH', y = 'sugar', hue='class')\n",
        "sns.boxplot(data=wine, x = 'class', y = 'alcohol')"
      ]
    },
    {
      "cell_type": "markdown",
      "metadata": {
        "id": "XFeumLbm330z"
      },
      "source": [
        "- 복원 추출\n",
        "  + 한번도 추출이 안된 샘플이 있을 수 있음"
      ]
    },
    {
      "cell_type": "code",
      "execution_count": 38,
      "metadata": {
        "colab": {
          "base_uri": "https://localhost:8080/"
        },
        "id": "J3RNX4sz33Uw",
        "outputId": "957b04c2-c541-4d52-f49e-60b75b5dbbc1"
      },
      "outputs": [
        {
          "name": "stdout",
          "output_type": "stream",
          "text": [
            "0.8934000384837406\n",
            "0.996921300750433\n",
            "0.8892307692307693\n"
          ]
        }
      ],
      "source": [
        "rf = RandomForestClassifier(n_jobs=-1, oob_score=True, random_state=42)\n",
        "rf.fit(train_input, train_target)\n",
        "print(rf.oob_score_) # 검증 세트와 비슷한 느낌. \n",
        "print(rf.score(train_input, train_target))\n",
        "print(rf.score(test_input, test_target))"
      ]
    },
    {
      "cell_type": "markdown",
      "metadata": {
        "id": "wGrgoui_z6Sb"
      },
      "source": [
        "## 확률적 경사하강법\n",
        "- 점진적 학습\n",
        "  + 대표 알고리즘 : 확률적 경사 하강법(Stochastic Gradient Descent)\n",
        "  + 확률적 : 무작위 데이터 \n",
        "- 훈련세트 분리\n",
        "  + 샘플 뽑기\n",
        "    + 확률적 경사하강법 : 1개씩 뽑기\n",
        "    + 미니배치 경사 하강법 : 여러 개씩 뽑기\n",
        "    + 배치 경사 하강법 : 몽땅 꺼내기\n",
        "  + 조금씩 경사 및 기울기를 다라 이동\n",
        "  + 모든 훈련세트 소진 : 1 에포크 끝. \n",
        "\n",
        "- 손실함수(loss function)\n",
        "  + 머신러닝 알고리즘이 얼마나 잘 못맞추느냐 측정하는 기준.\n",
        "  + 손실 함수의 값은 작을 수록 좋음 \n",
        "\n",
        "  \n"
      ]
    },
    {
      "cell_type": "markdown",
      "metadata": {
        "id": "ufm-aMjMDkm0"
      },
      "source": [
        "## 그레이디언트 부스팅\n",
        "- 처음에 샘플 뽑고, 경사하강법을 적용\n",
        "  + 사용하는 모델은 결정 트리\n"
      ]
    },
    {
      "cell_type": "code",
      "execution_count": 41,
      "metadata": {
        "colab": {
          "base_uri": "https://localhost:8080/"
        },
        "id": "314fvuVRE5C6",
        "outputId": "4d37f8cd-ed62-4c66-ad56-d5fdc5a29f78"
      },
      "outputs": [
        {
          "name": "stdout",
          "output_type": "stream",
          "text": [
            "0.9434289514154802 0.8751230843266453\n"
          ]
        }
      ],
      "source": [
        "from sklearn.ensemble import GradientBoostingClassifier\n",
        "gb = GradientBoostingClassifier(n_estimators = 500, \n",
        "                                learning_rate=0.2,\n",
        "                                subsample=0.5, # 전체 훈련 세트 \n",
        "                                random_state=42)\n",
        "\n",
        "scores = cross_validate(gb, train_input, train_target, \n",
        "                        return_train_score=True, n_jobs=-1)\n",
        "\n",
        "print(np.mean(scores['train_score']), np.mean(scores['test_score']))"
      ]
    },
    {
      "cell_type": "markdown",
      "metadata": {
        "id": "ut6qhgTaKOZI"
      },
      "source": [
        "## XGBoost vs LightGBM\n",
        "- Decision Tree \n",
        "- 노드가 분기 시, 속도 차이 존재\n",
        "  + LigGBM > XGBoost \n",
        "- GPU 지원 여부\n",
        "  + 기존) 선형회귀, 결정트리, 랜덤포레스트, 일반 부스팅 (X)\n",
        "  + XGBoost, LightGBM (O)\n",
        "- 공통적인 특징 (문법상 미세한 차이 발생)\n",
        "  + Scikit-Learn과 연동된 API\n",
        "  + 독자적인 API\n",
        "  + 약간의 문법적인 혼동이 옴"
      ]
    },
    {
      "cell_type": "markdown",
      "metadata": {
        "id": "7VNlrnUUOBnr"
      },
      "source": [
        "### Scikit-Learn API"
      ]
    },
    {
      "cell_type": "code",
      "execution_count": 43,
      "metadata": {
        "colab": {
          "base_uri": "https://localhost:8080/"
        },
        "id": "U4_YPpVcOD3W",
        "outputId": "6cb186a1-1b07-4646-dd36-30de4d414dce"
      },
      "outputs": [
        {
          "name": "stdout",
          "output_type": "stream",
          "text": [
            "0.8824322471423747 0.8726214185237284\n"
          ]
        }
      ],
      "source": [
        "from xgboost import XGBClassifier\n",
        "xgb = XGBClassifier(tree_method='hist', random_state=42)\n",
        "scores = cross_validate(xgb, train_input, train_target, return_train_score=True)\n",
        "\n",
        "print(np.mean(scores['train_score']), np.mean(scores['test_score']))"
      ]
    },
    {
      "cell_type": "code",
      "execution_count": null,
      "metadata": {
        "id": "CJfQTuUPPKd-"
      },
      "outputs": [],
      "source": [
        "import xgboost as xgb\n",
        "\n",
        "# read in data\n",
        "dtrain = xgb.DMatrix('demo/data/agaricus.txt.train')\n",
        "dtest = xgb.DMatrix('demo/data/agaricus.txt.test')\n",
        "\n",
        "# specify parameters via map\n",
        "param = {'max_depth':2, 'eta':1, 'objective':'binary:logistic' }\n",
        "num_round = 2\n",
        "\n",
        "bst = xgb.train(param, dtrain, num_round)\n",
        "# make prediction\n",
        "preds = bst.predict(dtest)"
      ]
    },
    {
      "cell_type": "code",
      "execution_count": 44,
      "metadata": {
        "colab": {
          "base_uri": "https://localhost:8080/"
        },
        "id": "aoosc9QbOkWh",
        "outputId": "376b95bc-641f-4cb1-beeb-f919bce31494"
      },
      "outputs": [
        {
          "name": "stdout",
          "output_type": "stream",
          "text": [
            "0.9338079582727165 0.8789710890649293\n"
          ]
        }
      ],
      "source": [
        "from lightgbm import LGBMClassifier \n",
        "lgb = LGBMClassifier(random_state=42)\n",
        "\n",
        "scores = cross_validate(lgb, train_input, train_target, return_train_score=True)\n",
        "print(np.mean(scores['train_score']), np.mean(scores['test_score']))"
      ]
    },
    {
      "cell_type": "markdown",
      "metadata": {
        "id": "Mf4krVvjQUMR"
      },
      "source": [
        "머신러닝 프로세스\n",
        "- 데이터 수집\n",
        "- 데이터 전처리\n",
        "  + Feature Engineering (표준화), 각 수치 데이터의 단위가 다름. \n",
        "- 머신러닝 모델\n",
        "  + 분류\n",
        "  + 회귀(수치 예측)\n",
        "  + KNN, 선형회귀, 로지스틱회귀, 결정트리(랜덤포레스트 등), 경사하강법\n",
        "- 하이퍼파라미터, 교차검증\n",
        "  + 그리드 서치 \n",
        "  + 랜덤 서치\n",
        "- 평가지표\n",
        "  + 분류 : 정확도\n",
        "  + 회귀 : MAE "
      ]
    }
  ],
  "metadata": {
    "colab": {
      "provenance": []
    },
    "kernelspec": {
      "display_name": "Python 3.10.7 ('venv': venv)",
      "language": "python",
      "name": "python3"
    },
    "language_info": {
      "name": "python",
      "version": "3.10.7"
    },
    "vscode": {
      "interpreter": {
        "hash": "ac7fc3feacdf1648304d8b9c9b9df8cebcf330cc0d92adf161440c7b0a8dcb59"
      }
    }
  },
  "nbformat": 4,
  "nbformat_minor": 0
}
