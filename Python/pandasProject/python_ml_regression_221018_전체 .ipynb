{
  "cells": [
    {
      "cell_type": "markdown",
      "metadata": {
        "id": "GdRQzZ_scqia"
      },
      "source": [
        "## 회귀\n",
        "- 수치예측 \n",
        "- 통계 관점에서의 회귀 \n",
        "  + 해석이 매우 중요 / 데이터가 어떤 분포로 이루어져 있느냐!? 이걸 파악! \n",
        "  + 가설검정 추론\n",
        "    - 카카오 주식 하락을 시키는 여러가지 요인\n",
        "- 머신러닝 관점에서의 회귀\n",
        "  + 수치 예측\n",
        "  + 오차(Error) = 실제 관측치 - 예측치 \n",
        "  + 좋은 모델을 선정 ==> 오차가 작은것이 Best"
      ]
    },
    {
      "cell_type": "code",
      "execution_count": 1,
      "metadata": {
        "id": "PQ-9qoPWaNY9"
      },
      "outputs": [],
      "source": [
        "import numpy as np \n",
        "\n",
        "perch_length = np.array(\n",
        "    [8.4, 13.7, 15.0, 16.2, 17.4, 18.0, 18.7, 19.0, 19.6, 20.0, \n",
        "     21.0, 21.0, 21.0, 21.3, 22.0, 22.0, 22.0, 22.0, 22.0, 22.5, \n",
        "     22.5, 22.7, 23.0, 23.5, 24.0, 24.0, 24.6, 25.0, 25.6, 26.5, \n",
        "     27.3, 27.5, 27.5, 27.5, 28.0, 28.7, 30.0, 32.8, 34.5, 35.0, \n",
        "     36.5, 36.0, 37.0, 37.0, 39.0, 39.0, 39.0, 40.0, 40.0, 40.0, \n",
        "     40.0, 42.0, 43.0, 43.0, 43.5, 44.0]\n",
        "     )\n",
        "perch_weight = np.array(\n",
        "    [5.9, 32.0, 40.0, 51.5, 70.0, 100.0, 78.0, 80.0, 85.0, 85.0, \n",
        "     110.0, 115.0, 125.0, 130.0, 120.0, 120.0, 130.0, 135.0, 110.0, \n",
        "     130.0, 150.0, 145.0, 150.0, 170.0, 225.0, 145.0, 188.0, 180.0, \n",
        "     197.0, 218.0, 300.0, 260.0, 265.0, 250.0, 250.0, 300.0, 320.0, \n",
        "     514.0, 556.0, 840.0, 685.0, 700.0, 700.0, 690.0, 900.0, 650.0, \n",
        "     820.0, 850.0, 900.0, 1015.0, 820.0, 1100.0, 1000.0, 1100.0, \n",
        "     1000.0, 1000.0]\n",
        "     ) "
      ]
    },
    {
      "cell_type": "markdown",
      "metadata": {
        "id": "urZrcfCjf-C3"
      },
      "source": [
        "## 데이터 시각화"
      ]
    },
    {
      "cell_type": "code",
      "execution_count": 2,
      "metadata": {
        "colab": {
          "base_uri": "https://localhost:8080/",
          "height": 279
        },
        "id": "irg_d9MUgAA3",
        "outputId": "02bc14fe-f8a7-4fe7-e6e0-fd7f21fea753"
      },
      "outputs": [
        {
          "data": {
            "image/png": "[encoded data removed]",
            "text/plain": [
              "<Figure size 432x288 with 1 Axes>"
            ]
          },
          "metadata": {
            "needs_background": "light"
          },
          "output_type": "display_data"
        }
      ],
      "source": [
        "import matplotlib.pyplot as plt \n",
        "fig, ax = plt.subplots()\n",
        "ax.scatter(perch_length, perch_weight)\n",
        "ax.set_xlabel(\"length\")\n",
        "ax.set_ylabel(\"weight\")\n",
        "plt.show()"
      ]
    },
    {
      "cell_type": "markdown",
      "metadata": {
        "id": "gsxiFieBg7wL"
      },
      "source": [
        "## 세트분리\n",
        "- 훈련 세트, 테스트 세트 분리\n",
        "- scikit-learn, train_test_split() "
      ]
    },
    {
      "cell_type": "code",
      "execution_count": 3,
      "metadata": {
        "colab": {
          "base_uri": "https://localhost:8080/"
        },
        "id": "1j2bnApfhF9W",
        "outputId": "406e7072-436a-49a8-dd78-ad72b2d75ce4"
      },
      "outputs": [
        {
          "data": {
            "text/plain": [
              "((42,), (14,), (42,), (14,))"
            ]
          },
          "execution_count": 3,
          "metadata": {},
          "output_type": "execute_result"
        }
      ],
      "source": [
        "from sklearn.model_selection import train_test_split \n",
        "\n",
        "train_input, test_input, train_target, test_target = train_test_split(\n",
        "    perch_length, perch_weight, random_state = 42\n",
        ")\n",
        "\n",
        "train_input.shape, test_input.shape, train_target.shape, test_target.shape"
      ]
    },
    {
      "cell_type": "code",
      "execution_count": 4,
      "metadata": {
        "colab": {
          "base_uri": "https://localhost:8080/"
        },
        "id": "G9QdoCN0jxfQ",
        "outputId": "0a4f1d67-85f3-4b89-b0cf-d2a75515fe54"
      },
      "outputs": [
        {
          "data": {
            "text/plain": [
              "(1, 1, 1, 1)"
            ]
          },
          "execution_count": 4,
          "metadata": {},
          "output_type": "execute_result"
        }
      ],
      "source": [
        "train_input.ndim, test_input.ndim, train_target.ndim, test_target.ndim"
      ]
    },
    {
      "cell_type": "code",
      "execution_count": 5,
      "metadata": {
        "colab": {
          "base_uri": "https://localhost:8080/"
        },
        "id": "iAwzp7HuiGnT",
        "outputId": "ca110c00-8fa2-4831-e457-7fd97bf7aa4c"
      },
      "outputs": [
        {
          "data": {
            "text/plain": [
              "array([[[1, 2],\n",
              "        [3, 4]],\n",
              "\n",
              "       [[5, 6],\n",
              "        [7, 8]]])"
            ]
          },
          "execution_count": 5,
          "metadata": {},
          "output_type": "execute_result"
        }
      ],
      "source": [
        "# 배열의 사이즈를 맘대로 바꿀 수 있음 \n",
        "# 1차원 배열 --> 2차원 또는 3차원 배열\n",
        "# 최대공약수 & 최소공배수 \n",
        "test_array = np.array([1, 2, 3, 4, 5, 6, 7, 8])\n",
        "temp_arr = test_array.reshape(-1, 2, 2)\n",
        "temp_arr"
      ]
    },
    {
      "cell_type": "code",
      "execution_count": 6,
      "metadata": {
        "colab": {
          "base_uri": "https://localhost:8080/"
        },
        "id": "7g-pdGYQjNRa",
        "outputId": "dfc517b1-d877-4d82-eb36-ab7dfc6b3de9"
      },
      "outputs": [
        {
          "data": {
            "text/plain": [
              "(42, 1)"
            ]
          },
          "execution_count": 6,
          "metadata": {},
          "output_type": "execute_result"
        }
      ],
      "source": [
        "train_input = train_input.reshape(-1, 1)\n",
        "train_input.shape"
      ]
    },
    {
      "cell_type": "code",
      "execution_count": 7,
      "metadata": {
        "colab": {
          "base_uri": "https://localhost:8080/"
        },
        "id": "pkxrxiWejeBj",
        "outputId": "0e75f5d2-7561-4812-a854-871dfffc2f6c"
      },
      "outputs": [
        {
          "data": {
            "text/plain": [
              "(14, 1)"
            ]
          },
          "execution_count": 7,
          "metadata": {},
          "output_type": "execute_result"
        }
      ],
      "source": [
        "test_input = test_input.reshape(-1, 1)\n",
        "test_input.shape"
      ]
    },
    {
      "cell_type": "code",
      "execution_count": 8,
      "metadata": {
        "colab": {
          "base_uri": "https://localhost:8080/"
        },
        "id": "FY6GEV8kjd8m",
        "outputId": "6933370f-4174-4bfe-b0ac-cd7156e7ed50"
      },
      "outputs": [
        {
          "data": {
            "text/plain": [
              "2"
            ]
          },
          "execution_count": 8,
          "metadata": {},
          "output_type": "execute_result"
        }
      ],
      "source": [
        "train_input.ndim"
      ]
    },
    {
      "cell_type": "markdown",
      "metadata": {
        "id": "2j4A0a1lnePj"
      },
      "source": [
        "## 모델 만들기"
      ]
    },
    {
      "cell_type": "code",
      "execution_count": 9,
      "metadata": {
        "colab": {
          "base_uri": "https://localhost:8080/"
        },
        "id": "TQl4hKY6nnA4",
        "outputId": "485c9578-a2f7-4868-9d5f-18ae01c5c3d6"
      },
      "outputs": [
        {
          "data": {
            "text/plain": [
              "KNeighborsRegressor()"
            ]
          },
          "execution_count": 9,
          "metadata": {},
          "output_type": "execute_result"
        }
      ],
      "source": [
        "from sklearn.neighbors import KNeighborsRegressor \n",
        "\n",
        "knr = KNeighborsRegressor() \n",
        "\n",
        "# K-최근접 이웃 회귀모델\n",
        "knr.fit(train_input, train_target)"
      ]
    },
    {
      "cell_type": "markdown",
      "metadata": {
        "id": "RdU3OYjlpJOS"
      },
      "source": [
        "## 결정계수\n",
        "- 신뢰도, 모형을 내가 99.2% "
      ]
    },
    {
      "cell_type": "code",
      "execution_count": 10,
      "metadata": {
        "colab": {
          "base_uri": "https://localhost:8080/"
        },
        "id": "aUhyGx8ooY8a",
        "outputId": "bd7759b7-f31c-47d1-dea9-92ab34d72e27"
      },
      "outputs": [
        {
          "data": {
            "text/plain": [
              "0.992809406101064"
            ]
          },
          "execution_count": 10,
          "metadata": {},
          "output_type": "execute_result"
        }
      ],
      "source": [
        "knr.score(test_input, test_target)"
      ]
    },
    {
      "cell_type": "markdown",
      "metadata": {
        "id": "h8JJhvmmqUHM"
      },
      "source": [
        "- 평가지표 (sklearn 함수로 존재함)\n",
        "  + 절댓값 오차"
      ]
    },
    {
      "cell_type": "code",
      "execution_count": 11,
      "metadata": {
        "colab": {
          "base_uri": "https://localhost:8080/"
        },
        "id": "cJOWUrqDqZWA",
        "outputId": "d2347e32-c124-445f-a5a7-7fd16e49186e"
      },
      "outputs": [
        {
          "data": {
            "text/plain": [
              "array([  60. ,   79.6,  248. ,  122. ,  136. ,  847. ,  311.4,  183.4,\n",
              "        847. ,  113. , 1010. ,   60. ,  248. ,  248. ])"
            ]
          },
          "execution_count": 11,
          "metadata": {},
          "output_type": "execute_result"
        }
      ],
      "source": [
        "from sklearn.metrics import mean_absolute_error \n",
        "\n",
        "# 테스트 세트에 대한 예측을 만듬\n",
        "test_prediction = knr.predict(test_input)\n",
        "test_prediction "
      ]
    },
    {
      "cell_type": "code",
      "execution_count": 12,
      "metadata": {
        "colab": {
          "base_uri": "https://localhost:8080/",
          "height": 488
        },
        "id": "HZqS1Bbzrf8W",
        "outputId": "d0bf3e44-042d-4d43-eef9-485f827f7a4f"
      },
      "outputs": [
        {
          "data": {
            "text/html": [
              "\n",
              "  <div id=\"df-4ce66498-6487-4ed3-b633-7e6e4313b143\">\n",
              "    <div class=\"colab-df-container\">\n",
              "      <div>\n",
              "<style scoped>\n",
              "    .dataframe tbody tr th:only-of-type {\n",
              "        vertical-align: middle;\n",
              "    }\n",
              "\n",
              "    .dataframe tbody tr th {\n",
              "        vertical-align: top;\n",
              "    }\n",
              "\n",
              "    .dataframe thead th {\n",
              "        text-align: right;\n",
              "    }\n",
              "</style>\n",
              "<table border=\"1\" class=\"dataframe\">\n",
              "  <thead>\n",
              "    <tr style=\"text-align: right;\">\n",
              "      <th></th>\n",
              "      <th>예측</th>\n",
              "      <th>기존</th>\n",
              "    </tr>\n",
              "  </thead>\n",
              "  <tbody>\n",
              "    <tr>\n",
              "      <th>0</th>\n",
              "      <td>60.0</td>\n",
              "      <td>5.9</td>\n",
              "    </tr>\n",
              "    <tr>\n",
              "      <th>1</th>\n",
              "      <td>79.6</td>\n",
              "      <td>100.0</td>\n",
              "    </tr>\n",
              "    <tr>\n",
              "      <th>2</th>\n",
              "      <td>248.0</td>\n",
              "      <td>250.0</td>\n",
              "    </tr>\n",
              "    <tr>\n",
              "      <th>3</th>\n",
              "      <td>122.0</td>\n",
              "      <td>130.0</td>\n",
              "    </tr>\n",
              "    <tr>\n",
              "      <th>4</th>\n",
              "      <td>136.0</td>\n",
              "      <td>130.0</td>\n",
              "    </tr>\n",
              "    <tr>\n",
              "      <th>5</th>\n",
              "      <td>847.0</td>\n",
              "      <td>820.0</td>\n",
              "    </tr>\n",
              "    <tr>\n",
              "      <th>6</th>\n",
              "      <td>311.4</td>\n",
              "      <td>320.0</td>\n",
              "    </tr>\n",
              "    <tr>\n",
              "      <th>7</th>\n",
              "      <td>183.4</td>\n",
              "      <td>188.0</td>\n",
              "    </tr>\n",
              "    <tr>\n",
              "      <th>8</th>\n",
              "      <td>847.0</td>\n",
              "      <td>900.0</td>\n",
              "    </tr>\n",
              "    <tr>\n",
              "      <th>9</th>\n",
              "      <td>113.0</td>\n",
              "      <td>125.0</td>\n",
              "    </tr>\n",
              "    <tr>\n",
              "      <th>10</th>\n",
              "      <td>1010.0</td>\n",
              "      <td>1000.0</td>\n",
              "    </tr>\n",
              "    <tr>\n",
              "      <th>11</th>\n",
              "      <td>60.0</td>\n",
              "      <td>51.5</td>\n",
              "    </tr>\n",
              "    <tr>\n",
              "      <th>12</th>\n",
              "      <td>248.0</td>\n",
              "      <td>250.0</td>\n",
              "    </tr>\n",
              "    <tr>\n",
              "      <th>13</th>\n",
              "      <td>248.0</td>\n",
              "      <td>300.0</td>\n",
              "    </tr>\n",
              "  </tbody>\n",
              "</table>\n",
              "</div>\n",
              "      <button class=\"colab-df-convert\" onclick=\"convertToInteractive('df-4ce66498-6487-4ed3-b633-7e6e4313b143')\"\n",
              "              title=\"Convert this dataframe to an interactive table.\"\n",
              "              style=\"display:none;\">\n",
              "        \n",
              "  <svg xmlns=\"http://www.w3.org/2000/svg\" height=\"24px\"viewBox=\"0 0 24 24\"\n",
              "       width=\"24px\">\n",
              "    <path d=\"M0 0h24v24H0V0z\" fill=\"none\"/>\n",
              "    <path d=\"M18.56 5.44l.94 2.06.94-2.06 2.06-.94-2.06-.94-.94-2.06-.94 2.06-2.06.94zm-11 1L8.5 8.5l.94-2.06 2.06-.94-2.06-.94L8.5 2.5l-.94 2.06-2.06.94zm10 10l.94 2.06.94-2.06 2.06-.94-2.06-.94-.94-2.06-.94 2.06-2.06.94z\"/><path d=\"M17.41 7.96l-1.37-1.37c-.4-.4-.92-.59-1.43-.59-.52 0-1.04.2-1.43.59L10.3 9.45l-7.72 7.72c-.78.78-.78 2.05 0 2.83L4 21.41c.39.39.9.59 1.41.59.51 0 1.02-.2 1.41-.59l7.78-7.78 2.81-2.81c.8-.78.8-2.07 0-2.86zM5.41 20L4 18.59l7.72-7.72 1.47 1.35L5.41 20z\"/>\n",
              "  </svg>\n",
              "      </button>\n",
              "      \n",
              "  <style>\n",
              "    .colab-df-container {\n",
              "      display:flex;\n",
              "      flex-wrap:wrap;\n",
              "      gap: 12px;\n",
              "    }\n",
              "\n",
              "    .colab-df-convert {\n",
              "      background-color: #E8F0FE;\n",
              "      border: none;\n",
              "      border-radius: 50%;\n",
              "      cursor: pointer;\n",
              "      display: none;\n",
              "      fill: #1967D2;\n",
              "      height: 32px;\n",
              "      padding: 0 0 0 0;\n",
              "      width: 32px;\n",
              "    }\n",
              "\n",
              "    .colab-df-convert:hover {\n",
              "      background-color: #E2EBFA;\n",
              "      box-shadow: 0px 1px 2px rgba(60, 64, 67, 0.3), 0px 1px 3px 1px rgba(60, 64, 67, 0.15);\n",
              "      fill: #174EA6;\n",
              "    }\n",
              "\n",
              "    [theme=dark] .colab-df-convert {\n",
              "      background-color: #3B4455;\n",
              "      fill: #D2E3FC;\n",
              "    }\n",
              "\n",
              "    [theme=dark] .colab-df-convert:hover {\n",
              "      background-color: #434B5C;\n",
              "      box-shadow: 0px 1px 3px 1px rgba(0, 0, 0, 0.15);\n",
              "      filter: drop-shadow(0px 1px 2px rgba(0, 0, 0, 0.3));\n",
              "      fill: #FFFFFF;\n",
              "    }\n",
              "  </style>\n",
              "\n",
              "      <script>\n",
              "        const buttonEl =\n",
              "          document.querySelector('#df-4ce66498-6487-4ed3-b633-7e6e4313b143 button.colab-df-convert');\n",
              "        buttonEl.style.display =\n",
              "          google.colab.kernel.accessAllowed ? 'block' : 'none';\n",
              "\n",
              "        async function convertToInteractive(key) {\n",
              "          const element = document.querySelector('#df-4ce66498-6487-4ed3-b633-7e6e4313b143');\n",
              "          const dataTable =\n",
              "            await google.colab.kernel.invokeFunction('convertToInteractive',\n",
              "                                                     [key], {});\n",
              "          if (!dataTable) return;\n",
              "\n",
              "          const docLinkHtml = 'Like what you see? Visit the ' +\n",
              "            '<a target=\"_blank\" href=https://colab.research.google.com/notebooks/data_table.ipynb>data table notebook</a>'\n",
              "            + ' to learn more about interactive tables.';\n",
              "          element.innerHTML = '';\n",
              "          dataTable['output_type'] = 'display_data';\n",
              "          await google.colab.output.renderOutput(dataTable, element);\n",
              "          const docLink = document.createElement('div');\n",
              "          docLink.innerHTML = docLinkHtml;\n",
              "          element.appendChild(docLink);\n",
              "        }\n",
              "      </script>\n",
              "    </div>\n",
              "  </div>\n",
              "  "
            ],
            "text/plain": [
              "        예측      기존\n",
              "0     60.0     5.9\n",
              "1     79.6   100.0\n",
              "2    248.0   250.0\n",
              "3    122.0   130.0\n",
              "4    136.0   130.0\n",
              "5    847.0   820.0\n",
              "6    311.4   320.0\n",
              "7    183.4   188.0\n",
              "8    847.0   900.0\n",
              "9    113.0   125.0\n",
              "10  1010.0  1000.0\n",
              "11    60.0    51.5\n",
              "12   248.0   250.0\n",
              "13   248.0   300.0"
            ]
          },
          "execution_count": 12,
          "metadata": {},
          "output_type": "execute_result"
        }
      ],
      "source": [
        "import pandas as pd \n",
        "\n",
        "result_df = pd.DataFrame({\n",
        "    \"예측\" : test_prediction, \n",
        "    \"기존\" : test_target\n",
        "})\n",
        "\n",
        "result_df"
      ]
    },
    {
      "cell_type": "markdown",
      "metadata": {
        "id": "XCnoi0q4rfU-"
      },
      "source": [
        "## 19g의 의미\n",
        "- 예측이 평균적으로 19g 정도 다르다! "
      ]
    },
    {
      "cell_type": "code",
      "execution_count": 13,
      "metadata": {
        "colab": {
          "base_uri": "https://localhost:8080/"
        },
        "id": "GOich_UgrHro",
        "outputId": "907807bf-ccdb-4193-d490-31be0804b696"
      },
      "outputs": [
        {
          "name": "stdout",
          "output_type": "stream",
          "text": [
            "19.157142857142862\n"
          ]
        }
      ],
      "source": [
        "# 테스트 세트에 대한 평균 절댓값 오차를 계산\n",
        "mae = mean_absolute_error(test_target, test_prediction)\n",
        "print(mae)"
      ]
    },
    {
      "cell_type": "markdown",
      "metadata": {
        "id": "a00_HZ0wsh8C"
      },
      "source": [
        "## 과대적합 vs 과소적합\n",
        "- 내신 (훈련) : 내신 1등\n",
        "- 모의고사 (검증) : 모의고사 중간\n",
        "- 수능 (테스트) : 모의고사보다 더 못봄\n",
        "\n",
        "--- \n",
        "- 내신(훈련) : 내신 5등\n",
        "- 모의고사 (검증) : 모의고사 상위 \n",
        "- 수능 (테스트) : 수능 중상위\n",
        "\n",
        "-- \n",
        "SI 업체 \n",
        "- 과제 수행완료\n",
        "--> 평가지표 몇 이상! \n"
      ]
    },
    {
      "cell_type": "markdown",
      "metadata": {
        "id": "_aqrddfs1fCn"
      },
      "source": [
        "과소적합 Case \n",
        "- 훈련 데이터 평가 : 0.97\n",
        "- 테스트 데이터 평가 : 0.99"
      ]
    },
    {
      "cell_type": "code",
      "execution_count": 14,
      "metadata": {
        "colab": {
          "base_uri": "https://localhost:8080/"
        },
        "id": "VkTnv6LVrL1n",
        "outputId": "358594ac-d49d-46f8-a4a2-09308a58eb01"
      },
      "outputs": [
        {
          "name": "stdout",
          "output_type": "stream",
          "text": [
            "0.9698823289099254\n"
          ]
        }
      ],
      "source": [
        "print(knr.score(train_input, train_target))"
      ]
    },
    {
      "cell_type": "markdown",
      "metadata": {
        "id": "DGl91iaP2DD7"
      },
      "source": [
        "## 파라미터 조정"
      ]
    },
    {
      "cell_type": "code",
      "execution_count": 15,
      "metadata": {
        "colab": {
          "base_uri": "https://localhost:8080/"
        },
        "id": "B6RUO8Vg2Ezr",
        "outputId": "83ba2d78-ad58-4930-9549-b8bcd7ead6f8"
      },
      "outputs": [
        {
          "name": "stdout",
          "output_type": "stream",
          "text": [
            "0.9804899950518966\n"
          ]
        }
      ],
      "source": [
        "knr.n_neighbors = 3 \n",
        "\n",
        "# 모델 다시 훈련\n",
        "knr.fit(train_input, train_target) \n",
        "print(knr.score(train_input, train_target))"
      ]
    },
    {
      "cell_type": "code",
      "execution_count": 16,
      "metadata": {
        "colab": {
          "base_uri": "https://localhost:8080/"
        },
        "id": "rdVpB7Tl2Ov8",
        "outputId": "c5a92f05-4360-485c-a488-59c2d6e0a28e"
      },
      "outputs": [
        {
          "name": "stdout",
          "output_type": "stream",
          "text": [
            "0.9746459963987609\n"
          ]
        }
      ],
      "source": [
        "print(knr.score(test_input, test_target))"
      ]
    },
    {
      "cell_type": "markdown",
      "metadata": {
        "id": "4cgOo5xj2g9-"
      },
      "source": [
        "## 왜 다른 모형이 필요한가!? \n",
        "- 머신러닝 알고리즘의 종류는 수백가지"
      ]
    },
    {
      "cell_type": "code",
      "execution_count": 17,
      "metadata": {
        "colab": {
          "base_uri": "https://localhost:8080/"
        },
        "id": "9U8DvBSo29Pp",
        "outputId": "4cefd064-0c69-4496-87b5-d3df4dd71af2"
      },
      "outputs": [
        {
          "name": "stdout",
          "output_type": "stream",
          "text": [
            "[1033.33333333]\n"
          ]
        }
      ],
      "source": [
        "print(knr.predict([[50]]))"
      ]
    },
    {
      "cell_type": "code",
      "execution_count": 18,
      "metadata": {
        "colab": {
          "base_uri": "https://localhost:8080/"
        },
        "id": "fQ5o7evF20Tr",
        "outputId": "ee00f1b4-cc63-4c7d-82c7-ba8d329d9d8b"
      },
      "outputs": [
        {
          "name": "stdout",
          "output_type": "stream",
          "text": [
            "[1033.33333333]\n"
          ]
        }
      ],
      "source": [
        "print(knr.predict([[500]]))"
      ]
    },
    {
      "cell_type": "code",
      "execution_count": 19,
      "metadata": {
        "colab": {
          "base_uri": "https://localhost:8080/",
          "height": 374
        },
        "id": "XIxZEd8a3sty",
        "outputId": "0669a4c1-c3f5-4725-a2a2-1031663511bf"
      },
      "outputs": [
        {
          "data": {
            "image/png": "[encoded data removed]",
            "text/plain": [
              "<Figure size 720x432 with 1 Axes>"
            ]
          },
          "metadata": {
            "needs_background": "light"
          },
          "output_type": "display_data"
        }
      ],
      "source": [
        "import matplotlib.pyplot as plt \n",
        "\n",
        "# 50cm  농어의 이웃을 구해보자!\n",
        "distances, indexes = knr.kneighbors([[100]]) \n",
        "\n",
        "# 산점도를 그려본다\n",
        "fig, ax = plt.subplots(figsize=(10, 6))\n",
        "\n",
        "ax.scatter(train_input, train_target)\n",
        "ax.scatter(train_input[indexes], train_target[indexes], marker = 'D')\n",
        "\n",
        "# 50cm 농어 데이터\n",
        "ax.scatter(100, 1033, marker='^')\n",
        "\n",
        "plt.show()"
      ]
    },
    {
      "cell_type": "markdown",
      "metadata": {
        "id": "lEJGsknE5iHJ"
      },
      "source": [
        "## 선형회귀\n",
        "- 직선을 긋는다! \n",
        "  + 주어진 데이터 분포에서 가장 적은 오차를 표현할 수 있는 직선을 긋는다. "
      ]
    },
    {
      "cell_type": "code",
      "execution_count": 20,
      "metadata": {
        "colab": {
          "base_uri": "https://localhost:8080/",
          "height": 374
        },
        "id": "Q66AeW7B5wDg",
        "outputId": "9fb80476-c26b-4f64-a1d7-1b255f5a4e1e"
      },
      "outputs": [
        {
          "data": {
            "image/png": "[encoded data removed]",
            "text/plain": [
              "<Figure size 720x432 with 1 Axes>"
            ]
          },
          "metadata": {
            "needs_background": "light"
          },
          "output_type": "display_data"
        }
      ],
      "source": [
        "import matplotlib.pyplot as plt \n",
        "\n",
        "# 50cm  농어의 이웃을 구해보자!\n",
        "distances, indexes = knr.kneighbors([[100]]) \n",
        "\n",
        "# 산점도를 그려본다\n",
        "fig, ax = plt.subplots(figsize=(10, 6))\n",
        "\n",
        "ax.scatter(train_input, train_target)\n",
        "ax.scatter(train_input[indexes], train_target[indexes], marker = 'D')\n",
        "\n",
        "plt.show()"
      ]
    },
    {
      "cell_type": "markdown",
      "metadata": {
        "id": "_cVknyit52q6"
      },
      "source": [
        "주어진 데이터 분포에서 가장 적은 오차를 표현할 수 있는 직선을 긋는다."
      ]
    },
    {
      "cell_type": "code",
      "execution_count": 21,
      "metadata": {
        "colab": {
          "base_uri": "https://localhost:8080/"
        },
        "id": "GeAEu3_452NU",
        "outputId": "fbe70a7a-d158-4eed-b7ce-b1d074575b7e"
      },
      "outputs": [
        {
          "name": "stdout",
          "output_type": "stream",
          "text": [
            "[1241.83860323]\n"
          ]
        }
      ],
      "source": [
        "from sklearn.linear_model import LinearRegression\n",
        "lr = LinearRegression()\n",
        "\n",
        "# 선형 회귀 모델을 훈련한다. \n",
        "lr.fit(train_input, train_target)\n",
        "\n",
        "print(lr.predict([[50]]))"
      ]
    },
    {
      "cell_type": "code",
      "execution_count": 22,
      "metadata": {
        "colab": {
          "base_uri": "https://localhost:8080/",
          "height": 374
        },
        "id": "Vph64fOZ6reg",
        "outputId": "996c2a8e-f002-4e58-b1af-12fa3cbbd53d"
      },
      "outputs": [
        {
          "data": {
            "image/png": "[encoded data removed]",
            "text/plain": [
              "<Figure size 720x432 with 1 Axes>"
            ]
          },
          "metadata": {
            "needs_background": "light"
          },
          "output_type": "display_data"
        }
      ],
      "source": [
        "import matplotlib.pyplot as plt \n",
        "\n",
        "# 산점도를 그려본다\n",
        "fig, ax = plt.subplots(figsize=(10, 6))\n",
        "ax.scatter(train_input, train_target)\n",
        "\n",
        "# 50cm 농어 데이터\n",
        "ax.scatter(50, 1231, marker='^')\n",
        "\n",
        "plt.show()"
      ]
    },
    {
      "cell_type": "markdown",
      "metadata": {
        "id": "AWBSUqPI8cnj"
      },
      "source": [
        "- y = ax + b\n",
        "  + a = 기울기\n",
        "  + b = 상수"
      ]
    },
    {
      "cell_type": "code",
      "execution_count": 23,
      "metadata": {
        "colab": {
          "base_uri": "https://localhost:8080/"
        },
        "id": "zDiYd6Ze8tNP",
        "outputId": "0f6045d9-3d51-4e37-d2b5-a31c72a076bf"
      },
      "outputs": [
        {
          "name": "stdout",
          "output_type": "stream",
          "text": [
            "[39.01714496] -709.0186449535477\n"
          ]
        }
      ],
      "source": [
        "      # 기울기  # 상수\n",
        "      # 계수    # 절편\n",
        "      # 가중치\n",
        "print(lr.coef_, lr.intercept_)"
      ]
    },
    {
      "cell_type": "code",
      "execution_count": 24,
      "metadata": {
        "colab": {
          "base_uri": "https://localhost:8080/",
          "height": 374
        },
        "id": "q-EL_pPx9Dcc",
        "outputId": "e60a9e31-418e-4882-b31b-fc2d7b724f37"
      },
      "outputs": [
        {
          "data": {
            "image/png": "[encoded data removed]",
            "text/plain": [
              "<Figure size 720x432 with 1 Axes>"
            ]
          },
          "metadata": {
            "needs_background": "light"
          },
          "output_type": "display_data"
        }
      ],
      "source": [
        "import matplotlib.pyplot as plt \n",
        "\n",
        "# 산점도를 그려본다\n",
        "fig, ax = plt.subplots(figsize=(10, 6))\n",
        "ax.scatter(train_input, train_target)\n",
        "\n",
        "# 50cm 농어 데이터\n",
        "ax.scatter(50, 1231, marker='^')\n",
        "\n",
        "# 기울기와 상수를 활용한 \n",
        "                  # x * 기울기 + 상수\n",
        "ax.plot([15, 50], [15 * lr.coef_ + lr.intercept_, 50 * lr.coef_ + lr.intercept_])\n",
        "\n",
        "plt.show()"
      ]
    },
    {
      "cell_type": "markdown",
      "metadata": {
        "id": "gpDeFe4zcQxG"
      },
      "source": [
        "## 다항 회귀\n",
        "- y = ax^2 + bx + c\n",
        "- 무게 = a*길이^2 + b*길이 + c\n",
        "- 19.6 * 19.6 --> 384.16"
      ]
    },
    {
      "cell_type": "code",
      "execution_count": 28,
      "metadata": {
        "colab": {
          "base_uri": "https://localhost:8080/"
        },
        "id": "Y1dfofXucmyb",
        "outputId": "1669a9e4-0c5a-4669-9843-179e8d2f9e31"
      },
      "outputs": [
        {
          "data": {
            "text/plain": [
              "((42, 2), (14, 2))"
            ]
          },
          "execution_count": 28,
          "metadata": {},
          "output_type": "execute_result"
        }
      ],
      "source": [
        "train_poly = np.column_stack((train_input ** 2, train_input))\n",
        "test_poly = np.column_stack((test_input ** 2, test_input))\n",
        "\n",
        "train_poly.shape, test_poly.shape"
      ]
    },
    {
      "cell_type": "code",
      "execution_count": 29,
      "metadata": {
        "colab": {
          "base_uri": "https://localhost:8080/"
        },
        "id": "UafnjyWddh16",
        "outputId": "ddab667b-8c15-4d4d-8785-93d24cd663d8"
      },
      "outputs": [
        {
          "name": "stdout",
          "output_type": "stream",
          "text": [
            "[1573.98423528]\n"
          ]
        }
      ],
      "source": [
        "lr = LinearRegression()\n",
        "lr.fit(train_poly, train_target)\n",
        "\n",
        "# 농어 50cm \n",
        "print(lr.predict([[50**2, 50]]))"
      ]
    },
    {
      "cell_type": "code",
      "execution_count": 30,
      "metadata": {
        "colab": {
          "base_uri": "https://localhost:8080/"
        },
        "id": "cCTBtHP_d0i6",
        "outputId": "98888a26-cd03-438c-da06-4eef6199c272"
      },
      "outputs": [
        {
          "name": "stdout",
          "output_type": "stream",
          "text": [
            "[  1.01433211 -21.55792498] 116.0502107827827\n"
          ]
        }
      ],
      "source": [
        "print(lr.coef_, lr.intercept_)"
      ]
    },
    {
      "cell_type": "markdown",
      "metadata": {
        "id": "-4cnX_fpeHk9"
      },
      "source": [
        "무게 = 1.01 x 길이^2 - 21.6 *길이 + 116.05"
      ]
    },
    {
      "cell_type": "code",
      "execution_count": 39,
      "metadata": {
        "colab": {
          "base_uri": "https://localhost:8080/"
        },
        "id": "H-KhJgUAgBut",
        "outputId": "7d47db38-248e-4b3e-9665-63e2d6475f4e"
      },
      "outputs": [
        {
          "name": "stdout",
          "output_type": "stream",
          "text": [
            "[1.90417193]\n"
          ]
        }
      ],
      "source": [
        "print(lr.predict([[10**2, 10]]))"
      ]
    },
    {
      "cell_type": "code",
      "execution_count": 41,
      "metadata": {
        "colab": {
          "base_uri": "https://localhost:8080/",
          "height": 374
        },
        "id": "31SXlMmpeGrJ",
        "outputId": "86f4a0ce-82fd-4f31-a150-0d9021f9ee37"
      },
      "outputs": [
        {
          "data": {
            "image/png": "[encoded data removed]",
            "text/plain": [
              "<Figure size 720x432 with 1 Axes>"
            ]
          },
          "metadata": {
            "needs_background": "light"
          },
          "output_type": "display_data"
        }
      ],
      "source": [
        "fig, ax = plt.subplots(figsize=(10, 6))\n",
        "\n",
        "# 구간별 직선을 그리자. \n",
        "point = np.arange(10, 50)\n",
        "\n",
        "# 훈련세트의 산점도\n",
        "ax.scatter(train_input, train_target)\n",
        "\n",
        "# 2차 방정식 그래프\n",
        "ax.plot(point, 1.01 * point ** 2 - 21.6 * point + 116.05, color = 'red')\n",
        "ax.scatter(10, 1.9, marker = '^')\n",
        "\n",
        "plt.show()"
      ]
    },
    {
      "cell_type": "markdown",
      "metadata": {
        "id": "iq4u_-D7hjeK"
      },
      "source": [
        "## 특성 공학과 규제\n",
        "- 데이터의 특성 2가지만 가지고 활용\n",
        "  + 길이와 무게 \n",
        "- 부동산 가격 결정하는 여러 요소들\n",
        "  + 브랜드 : 자이, 푸르지오, 롯데캐슬, 레미안 등등 \n",
        "  + 역세권 : 지하철\n",
        "  + 초등학교 있냐?\n",
        "  + 준공일  \n",
        "  + 시장 & 백화점\n",
        "  + 평수 \n",
        "  + 시너지 효과\n",
        "  + 살기 편함 만족도 \n",
        "\n"
      ]
    },
    {
      "cell_type": "markdown",
      "metadata": {
        "id": "nw_NIFIWkpzw"
      },
      "source": [
        "\n",
        "\n",
        "\n",
        "\n",
        "\n",
        "\n",
        "\n",
        "\n",
        "\n",
        "\n",
        "\n",
        "\n",
        "\n",
        "\n",
        "\n",
        "\n"
      ]
    },
    {
      "cell_type": "code",
      "execution_count": 43,
      "metadata": {
        "id": "yrNc-BHvhmIS"
      },
      "outputs": [],
      "source": [
        "import pandas as pd \n",
        "import numpy as np \n",
        "\n",
        "df = pd.read_csv('https://bit.ly/perch_csv_data')\n",
        "\n",
        "# 농어의 길이, 높이, 너비\n",
        "perch_full = df.to_numpy()\n",
        "\n",
        "# 무게 \n",
        "perch_weight = np.array(\n",
        "    [5.9, 32.0, 40.0, 51.5, 70.0, 100.0, 78.0, 80.0, 85.0, 85.0, \n",
        "     110.0, 115.0, 125.0, 130.0, 120.0, 120.0, 130.0, 135.0, 110.0, \n",
        "     130.0, 150.0, 145.0, 150.0, 170.0, 225.0, 145.0, 188.0, 180.0, \n",
        "     197.0, 218.0, 300.0, 260.0, 265.0, 250.0, 250.0, 300.0, 320.0, \n",
        "     514.0, 556.0, 840.0, 685.0, 700.0, 700.0, 690.0, 900.0, 650.0, \n",
        "     820.0, 850.0, 900.0, 1015.0, 820.0, 1100.0, 1000.0, 1100.0, \n",
        "     1000.0, 1000.0]\n",
        "     )"
      ]
    },
    {
      "cell_type": "code",
      "execution_count": 44,
      "metadata": {
        "colab": {
          "base_uri": "https://localhost:8080/"
        },
        "id": "f7ykMCPwpgJt",
        "outputId": "4dd13c64-d6b9-43ae-eade-b4d096b1f604"
      },
      "outputs": [
        {
          "data": {
            "text/plain": [
              "array([[ 8.4 ,  2.11,  1.41],\n",
              "       [13.7 ,  3.53,  2.  ],\n",
              "       [15.  ,  3.82,  2.43],\n",
              "       [16.2 ,  4.59,  2.63],\n",
              "       [17.4 ,  4.59,  2.94],\n",
              "       [18.  ,  5.22,  3.32],\n",
              "       [18.7 ,  5.2 ,  3.12],\n",
              "       [19.  ,  5.64,  3.05],\n",
              "       [19.6 ,  5.14,  3.04],\n",
              "       [20.  ,  5.08,  2.77],\n",
              "       [21.  ,  5.69,  3.56],\n",
              "       [21.  ,  5.92,  3.31],\n",
              "       [21.  ,  5.69,  3.67],\n",
              "       [21.3 ,  6.38,  3.53],\n",
              "       [22.  ,  6.11,  3.41],\n",
              "       [22.  ,  5.64,  3.52],\n",
              "       [22.  ,  6.11,  3.52],\n",
              "       [22.  ,  5.88,  3.52],\n",
              "       [22.  ,  5.52,  4.  ],\n",
              "       [22.5 ,  5.86,  3.62],\n",
              "       [22.5 ,  6.79,  3.62],\n",
              "       [22.7 ,  5.95,  3.63],\n",
              "       [23.  ,  5.22,  3.63],\n",
              "       [23.5 ,  6.28,  3.72],\n",
              "       [24.  ,  7.29,  3.72],\n",
              "       [24.  ,  6.38,  3.82],\n",
              "       [24.6 ,  6.73,  4.17],\n",
              "       [25.  ,  6.44,  3.68],\n",
              "       [25.6 ,  6.56,  4.24],\n",
              "       [26.5 ,  7.17,  4.14],\n",
              "       [27.3 ,  8.32,  5.14],\n",
              "       [27.5 ,  7.17,  4.34],\n",
              "       [27.5 ,  7.05,  4.34],\n",
              "       [27.5 ,  7.28,  4.57],\n",
              "       [28.  ,  7.82,  4.2 ],\n",
              "       [28.7 ,  7.59,  4.64],\n",
              "       [30.  ,  7.62,  4.77],\n",
              "       [32.8 , 10.03,  6.02],\n",
              "       [34.5 , 10.26,  6.39],\n",
              "       [35.  , 11.49,  7.8 ],\n",
              "       [36.5 , 10.88,  6.86],\n",
              "       [36.  , 10.61,  6.74],\n",
              "       [37.  , 10.84,  6.26],\n",
              "       [37.  , 10.57,  6.37],\n",
              "       [39.  , 11.14,  7.49],\n",
              "       [39.  , 11.14,  6.  ],\n",
              "       [39.  , 12.43,  7.35],\n",
              "       [40.  , 11.93,  7.11],\n",
              "       [40.  , 11.73,  7.22],\n",
              "       [40.  , 12.38,  7.46],\n",
              "       [40.  , 11.14,  6.63],\n",
              "       [42.  , 12.8 ,  6.87],\n",
              "       [43.  , 11.93,  7.28],\n",
              "       [43.  , 12.51,  7.42],\n",
              "       [43.5 , 12.6 ,  8.14],\n",
              "       [44.  , 12.49,  7.6 ]])"
            ]
          },
          "execution_count": 44,
          "metadata": {},
          "output_type": "execute_result"
        }
      ],
      "source": [
        "perch_full"
      ]
    },
    {
      "cell_type": "markdown",
      "metadata": {
        "id": "rSsaVtwHp5_5"
      },
      "source": [
        "## 세트 분리 "
      ]
    },
    {
      "cell_type": "code",
      "execution_count": 45,
      "metadata": {
        "colab": {
          "base_uri": "https://localhost:8080/"
        },
        "id": "7qlXKT2gp8HL",
        "outputId": "a3d54cdd-4860-4cda-a622-9b0ddfea743d"
      },
      "outputs": [
        {
          "data": {
            "text/plain": [
              "((42, 3), (14, 3), (42,), (14,))"
            ]
          },
          "execution_count": 45,
          "metadata": {},
          "output_type": "execute_result"
        }
      ],
      "source": [
        "train_input, test_input, train_target, test_target = train_test_split(\n",
        "    perch_full, perch_weight, random_state=42\n",
        ")\n",
        "\n",
        "train_input.shape, test_input.shape, train_target.shape, test_target.shape"
      ]
    },
    {
      "cell_type": "markdown",
      "metadata": {
        "id": "gFw99pXPqaVa"
      },
      "source": [
        "## Scikit-Learn Transformer \n",
        "- 데이터의 특성을 변환 시키는 여러 함수들\n"
      ]
    },
    {
      "cell_type": "code",
      "execution_count": 47,
      "metadata": {
        "colab": {
          "base_uri": "https://localhost:8080/"
        },
        "id": "Z9_BE_MKq33p",
        "outputId": "7ef767bc-3a0d-466c-d923-df67fe1b7680"
      },
      "outputs": [
        {
          "name": "stdout",
          "output_type": "stream",
          "text": [
            "[[2. 3. 4. 6. 9.]]\n"
          ]
        }
      ],
      "source": [
        "from sklearn.preprocessing import PolynomialFeatures\n",
        "\n",
        "# poly = PolynomialFeatures()\n",
        "poly = PolynomialFeatures(degree = 2, include_bias = False)\n",
        "\n",
        "# 2와 3으로 구성된 샘플 적용 \n",
        "poly.fit([[2, 3]])\n",
        "\n",
        "print(poly.transform([[2, 3]]))"
      ]
    },
    {
      "cell_type": "markdown",
      "metadata": {
        "id": "1lt_sEbBr2KB"
      },
      "source": [
        " 무게 = a * 길이 + b * 높이 + c * 두께 + d(상수)"
      ]
    },
    {
      "cell_type": "code",
      "execution_count": 48,
      "metadata": {
        "colab": {
          "base_uri": "https://localhost:8080/"
        },
        "id": "fxJ_hXS2r1C9",
        "outputId": "1ddc9cbf-159b-4229-960a-20d45c25fd50"
      },
      "outputs": [
        {
          "data": {
            "text/plain": [
              "(42, 9)"
            ]
          },
          "execution_count": 48,
          "metadata": {},
          "output_type": "execute_result"
        }
      ],
      "source": [
        "poly = PolynomialFeatures(degree = 2, include_bias = False)\n",
        "poly.fit(train_input)\n",
        "\n",
        "train_poly = poly.transform(train_input)\n",
        "train_poly.shape"
      ]
    },
    {
      "cell_type": "code",
      "execution_count": 51,
      "metadata": {
        "colab": {
          "base_uri": "https://localhost:8080/"
        },
        "id": "L9Z9efoMtZ0y",
        "outputId": "aceb205d-c2cf-4952-d2fc-35238709ab7a"
      },
      "outputs": [
        {
          "data": {
            "text/plain": [
              "array([[  19.6   ,    5.14  ,    3.04  ,  384.16  ,  100.744 ,   59.584 ,\n",
              "          26.4196,   15.6256,    9.2416],\n",
              "       [  22.    ,    5.88  ,    3.52  ,  484.    ,  129.36  ,   77.44  ,\n",
              "          34.5744,   20.6976,   12.3904],\n",
              "       [  18.7   ,    5.2   ,    3.12  ,  349.69  ,   97.24  ,   58.344 ,\n",
              "          27.04  ,   16.224 ,    9.7344],\n",
              "       [  17.4   ,    4.59  ,    2.94  ,  302.76  ,   79.866 ,   51.156 ,\n",
              "          21.0681,   13.4946,    8.6436],\n",
              "       [  36.    ,   10.61  ,    6.74  , 1296.    ,  381.96  ,  242.64  ,\n",
              "         112.5721,   71.5114,   45.4276]])"
            ]
          },
          "execution_count": 51,
          "metadata": {},
          "output_type": "execute_result"
        }
      ],
      "source": [
        "train_poly[:5]"
      ]
    },
    {
      "cell_type": "code",
      "execution_count": 50,
      "metadata": {
        "colab": {
          "base_uri": "https://localhost:8080/"
        },
        "id": "xXWQRbzasPJT",
        "outputId": "e5a4652b-c95a-4b9d-d1cf-299e384e0691"
      },
      "outputs": [
        {
          "data": {
            "text/plain": [
              "array(['x0', 'x1', 'x2', 'x0^2', 'x0 x1', 'x0 x2', 'x1^2', 'x1 x2',\n",
              "       'x2^2'], dtype=object)"
            ]
          },
          "execution_count": 50,
          "metadata": {},
          "output_type": "execute_result"
        }
      ],
      "source": [
        "poly.get_feature_names_out()"
      ]
    },
    {
      "cell_type": "code",
      "execution_count": 52,
      "metadata": {
        "colab": {
          "base_uri": "https://localhost:8080/"
        },
        "id": "JhhyAlNOuCSx",
        "outputId": "bb668ffc-54c2-48bd-e241-206644f2a3d4"
      },
      "outputs": [
        {
          "data": {
            "text/plain": [
              "(14, 9)"
            ]
          },
          "execution_count": 52,
          "metadata": {},
          "output_type": "execute_result"
        }
      ],
      "source": [
        "test_poly = poly.transform(test_input)\n",
        "test_poly.shape"
      ]
    },
    {
      "cell_type": "code",
      "execution_count": 53,
      "metadata": {
        "colab": {
          "base_uri": "https://localhost:8080/"
        },
        "id": "IXpBHLfluLqd",
        "outputId": "bc07b276-dcce-42b2-8bf9-7fec53b5595b"
      },
      "outputs": [
        {
          "name": "stdout",
          "output_type": "stream",
          "text": [
            "0.9903183436982124\n",
            "0.9714559911594134\n"
          ]
        }
      ],
      "source": [
        "lr = LinearRegression()\n",
        "lr.fit(train_poly, train_target)\n",
        "\n",
        "print(lr.score(train_poly, train_target))\n",
        "print(lr.score(test_poly, test_target))"
      ]
    },
    {
      "cell_type": "code",
      "execution_count": 57,
      "metadata": {
        "colab": {
          "base_uri": "https://localhost:8080/"
        },
        "id": "qZeH5R5-vMoD",
        "outputId": "29c88204-3f68-4313-9bd2-25aa48274576"
      },
      "outputs": [
        {
          "name": "stdout",
          "output_type": "stream",
          "text": [
            "Degree:  2\n",
            "차원의 개수: (42, 9)\n",
            "0.9903183436982124\n",
            "0.9714559911594134\n",
            "------------------------------\n",
            "Degree:  3\n",
            "차원의 개수: (42, 19)\n",
            "0.99638723409801\n",
            "0.9410534492233222\n",
            "------------------------------\n",
            "Degree:  4\n",
            "차원의 개수: (42, 34)\n",
            "0.9995286898073702\n",
            "-6.786696933467288\n",
            "------------------------------\n",
            "Degree:  5\n",
            "차원의 개수: (42, 55)\n",
            "0.9999999999991097\n",
            "-144.40579242684848\n",
            "------------------------------\n"
          ]
        }
      ],
      "source": [
        "# 사용자 정의함수 또는 반복문을\n",
        "\n",
        "for idx in range(2, 6):\n",
        "  poly = PolynomialFeatures(degree = idx, include_bias = False)\n",
        "  poly.fit(train_input)\n",
        "\n",
        "  train_poly = poly.transform(train_input)\n",
        "  test_poly = poly.transform(test_input)\n",
        "  \n",
        "\n",
        "  lr = LinearRegression()\n",
        "  lr.fit(train_poly, train_target)\n",
        "\n",
        "  print(\"Degree: \", idx)\n",
        "  print(\"차원의 개수:\", train_poly.shape)\n",
        "  print(lr.score(train_poly, train_target))\n",
        "  print(lr.score(test_poly, test_target))\n",
        "  print('-'*30)"
      ]
    },
    {
      "cell_type": "markdown",
      "metadata": {
        "id": "WOmsNqOMxTKE"
      },
      "source": [
        "## 규제\n",
        "- 영어 : Regularization\n",
        "  + 훈련 세트를 과도학게 학습하지 않도록 하는게 목표\n",
        "  + 선형 회귀 : 기울기의 크기를 작게 만듬\n",
        "- https://scikit-learn.org/stable/modules/generated/sklearn.preprocessing.StandardScaler.html#sklearn.preprocessing.StandardScaler"
      ]
    },
    {
      "cell_type": "code",
      "execution_count": 61,
      "metadata": {
        "id": "ap5fIhyKyhbh"
      },
      "outputs": [],
      "source": [
        "from sklearn.preprocessing import StandardScaler  \n",
        "ss = StandardScaler() # 표준점수\n",
        "ss.fit(train_poly)\n",
        "\n",
        "train_scaled = ss.transform(train_poly)\n",
        "test_scaled = ss.transform(test_poly)\n",
        "\n",
        "# 릿지 회귀, 라쏘 회귀\n",
        "# 릿지 : 계수를 제곱한 값을 기준으로 규제를 적용\n",
        "# 라쏘 : 계수의 절댓값을 기준으로 규제를 적용"
      ]
    },
    {
      "cell_type": "markdown",
      "metadata": {
        "id": "Fon6z4hL4mfc"
      },
      "source": [
        "## 릿지 회귀 \n",
        "- https://scikit-learn.org/stable/modules/linear_model.html#ridge-regression-and-classification"
      ]
    },
    {
      "cell_type": "code",
      "execution_count": 63,
      "metadata": {
        "colab": {
          "base_uri": "https://localhost:8080/"
        },
        "id": "7Bhhl80f4k09",
        "outputId": "d19481ed-ff94-43a6-e32d-c13a3ff0c0f5"
      },
      "outputs": [
        {
          "name": "stdout",
          "output_type": "stream",
          "text": [
            "0.9896101671037343\n",
            "0.9790693977615391\n"
          ]
        }
      ],
      "source": [
        "from sklearn.linear_model import Ridge \n",
        "ridge = Ridge()\n",
        "ridge.fit(train_scaled, train_target)\n",
        "print(ridge.score(train_scaled, train_target))\n",
        "print(ridge.score(test_scaled, test_target))"
      ]
    },
    {
      "cell_type": "markdown",
      "metadata": {
        "id": "PnAGoGvxiHRo"
      },
      "source": [
        "## 최적의 규제의 강도를 찾아보자!\n",
        "- 하이퍼파라미터 튜닝\n",
        "- 릿지에서는 alpha값 조정을 통해 계수를 규제한다. \n",
        "  + alpha값이 크면 규제강도는 점점 강해짐\n",
        "  + alpha값이 작으면 규제강도는 점점 작아짐"
      ]
    },
    {
      "cell_type": "code",
      "execution_count": 68,
      "metadata": {
        "colab": {
          "base_uri": "https://localhost:8080/",
          "height": 388
        },
        "id": "9CyGZOdy6HnL",
        "outputId": "ace97ad8-4838-4b90-c04a-17f7d62a162b"
      },
      "outputs": [
        {
          "data": {
            "image/png": "[encoded data removed]",
            "text/plain": [
              "<Figure size 720x432 with 1 Axes>"
            ]
          },
          "metadata": {
            "needs_background": "light"
          },
          "output_type": "display_data"
        }
      ],
      "source": [
        "import matplotlib.pyplot as plt \n",
        "\n",
        "train_score = []\n",
        "test_score = []\n",
        "\n",
        "alpha_values = [0.001, 0.01, 0.1, 1, 10, 100, 1000]\n",
        "for alpha in alpha_values:\n",
        "\n",
        "  # 릿지 모델 \n",
        "  ridge = Ridge(alpha = alpha)\n",
        "  ridge.fit(train_scaled, train_target)\n",
        "\n",
        "  # 훈련 점수와 테스트 점수를 저장\n",
        "  train_score.append(ridge.score(train_scaled, train_target))\n",
        "  test_score.append(ridge.score(test_scaled, test_target))\n",
        "\n",
        "# print(train_score)\n",
        "# print(test_score)\n",
        "\n",
        "fig, ax = plt.subplots(figsize=(10, 6))\n",
        "ax.plot(np.log10(alpha_values), train_score)\n",
        "ax.plot(np.log10(alpha_values), test_score)\n",
        "ax.set_xlabel('alpha') # 릿지회귀 규제의 강도\n",
        "ax.set_ylabel('R^2') # 결정계수\n",
        "plt.show()"
      ]
    },
    {
      "cell_type": "markdown",
      "metadata": {
        "id": "bGs40v4L8Mu4"
      },
      "source": [
        "- 가장 좋은 결과는 규제의 강도를 찾은 것! \n",
        "---> 최종 모델이 됨"
      ]
    },
    {
      "cell_type": "code",
      "execution_count": 69,
      "metadata": {
        "colab": {
          "base_uri": "https://localhost:8080/"
        },
        "id": "nUQiaxHC8RlN",
        "outputId": "3b7d2ec9-b239-4d9d-9bb4-a30d20eb8746"
      },
      "outputs": [
        {
          "name": "stdout",
          "output_type": "stream",
          "text": [
            "0.9903815817570365\n",
            "0.9827976465386884\n"
          ]
        }
      ],
      "source": [
        "ridge = Ridge(alpha = 0.1)\n",
        "ridge.fit(train_scaled, train_target)\n",
        "print(ridge.score(train_scaled, train_target))\n",
        "print(ridge.score(test_scaled, test_target))"
      ]
    },
    {
      "cell_type": "markdown",
      "metadata": {
        "id": "PZvZrCaw8ek-"
      },
      "source": [
        "## 라쏘 회귀\n"
      ]
    },
    {
      "cell_type": "code",
      "execution_count": 73,
      "metadata": {
        "colab": {
          "base_uri": "https://localhost:8080/",
          "height": 518
        },
        "id": "7gNfBt4U8hx3",
        "outputId": "499230f7-3a92-4b78-d882-6869910c70fd"
      },
      "outputs": [
        {
          "name": "stderr",
          "output_type": "stream",
          "text": [
            "/usr/local/lib/python3.7/dist-packages/sklearn/linear_model/_coordinate_descent.py:648: ConvergenceWarning: Objective did not converge. You might want to increase the number of iterations, check the scale of the features or consider increasing regularisation. Duality gap: 2.336e+04, tolerance: 5.183e+02\n",
            "  coef_, l1_reg, l2_reg, X, y, max_iter, tol, rng, random, positive\n",
            "/usr/local/lib/python3.7/dist-packages/sklearn/linear_model/_coordinate_descent.py:648: ConvergenceWarning: Objective did not converge. You might want to increase the number of iterations, check the scale of the features or consider increasing regularisation. Duality gap: 2.025e+04, tolerance: 5.183e+02\n",
            "  coef_, l1_reg, l2_reg, X, y, max_iter, tol, rng, random, positive\n",
            "/usr/local/lib/python3.7/dist-packages/sklearn/linear_model/_coordinate_descent.py:648: ConvergenceWarning: Objective did not converge. You might want to increase the number of iterations, check the scale of the features or consider increasing regularisation. Duality gap: 8.062e+02, tolerance: 5.183e+02\n",
            "  coef_, l1_reg, l2_reg, X, y, max_iter, tol, rng, random, positive\n"
          ]
        },
        {
          "data": {
            "image/png": "[encoded data removed]",
            "text/plain": [
              "<Figure size 720x432 with 1 Axes>"
            ]
          },
          "metadata": {
            "needs_background": "light"
          },
          "output_type": "display_data"
        }
      ],
      "source": [
        "from sklearn.linear_model import Lasso \n",
        "\n",
        "train_score = []\n",
        "test_score = []\n",
        "\n",
        "alpha_values = [0.001, 0.01, 0.1, 1, 10, 100]\n",
        "for alpha in alpha_values:\n",
        "\n",
        "    # 라쏘 모델을 만듭니다\n",
        "    lasso = Lasso(alpha=alpha)\n",
        "\n",
        "    # 라쏘 모델을 훈련합니다\n",
        "    lasso.fit(train_scaled, train_target)\n",
        "\n",
        "    # 훈련 점수와 테스트 점수를 저장합니다\n",
        "    train_score.append(lasso.score(train_scaled, train_target))\n",
        "    test_score.append(lasso.score(test_scaled, test_target))\n",
        "\n",
        "fig, ax = plt.subplots(figsize=(10, 6))\n",
        "ax.plot(np.log10(alpha_values), train_score)\n",
        "ax.plot(np.log10(alpha_values), test_score)\n",
        "ax.set_xlabel('alpha') # 라쏘회귀 규제의 강도\n",
        "ax.set_ylabel('R^2') # 결정계수\n",
        "plt.show()"
      ]
    },
    {
      "cell_type": "code",
      "execution_count": 74,
      "metadata": {
        "colab": {
          "base_uri": "https://localhost:8080/"
        },
        "id": "Qu43eIsy-Ndd",
        "outputId": "9ba774c2-35d2-4a1d-fc45-c1519fbf2eba"
      },
      "outputs": [
        {
          "name": "stdout",
          "output_type": "stream",
          "text": [
            "0.9888067471131867\n",
            "0.9824470598706695\n"
          ]
        }
      ],
      "source": [
        "lasso = Lasso(alpha=10)\n",
        "lasso.fit(train_scaled, train_target)\n",
        "\n",
        "print(lasso.score(train_scaled, train_target))\n",
        "print(lasso.score(test_scaled, test_target))"
      ]
    },
    {
      "cell_type": "code",
      "execution_count": 75,
      "metadata": {
        "colab": {
          "base_uri": "https://localhost:8080/"
        },
        "id": "_gSEgBtw-OuX",
        "outputId": "34113dbe-3953-4815-e315-6bac786cf00f"
      },
      "outputs": [
        {
          "name": "stdout",
          "output_type": "stream",
          "text": [
            "0.9907921500205304\n",
            "0.9836730006301534\n"
          ]
        },
        {
          "name": "stderr",
          "output_type": "stream",
          "text": [
            "/usr/local/lib/python3.7/dist-packages/sklearn/linear_model/_coordinate_descent.py:648: ConvergenceWarning: Objective did not converge. You might want to increase the number of iterations, check the scale of the features or consider increasing regularisation. Duality gap: 2.025e+04, tolerance: 5.183e+02\n",
            "  coef_, l1_reg, l2_reg, X, y, max_iter, tol, rng, random, positive\n"
          ]
        }
      ],
      "source": [
        "lasso = Lasso(alpha=0.01)\n",
        "lasso.fit(train_scaled, train_target)\n",
        "\n",
        "print(lasso.score(train_scaled, train_target))\n",
        "print(lasso.score(test_scaled, test_target))"
      ]
    }
  ],
  "metadata": {
    "colab": {
      "provenance": []
    },
    "kernelspec": {
      "display_name": "Python 3",
      "name": "python3"
    },
    "language_info": {
      "name": "python"
    }
  },
  "nbformat": 4,
  "nbformat_minor": 0
}
