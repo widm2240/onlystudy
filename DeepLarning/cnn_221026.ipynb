{
  "cells": [
    {
      "cell_type": "markdown",
      "metadata": {
        "id": "wppVEzr6CImD"
      },
      "source": [
        "## CNN 알고리즘\n",
        "- 딥러닝의 꽃!\n",
        "- 다층 신경망의 기본적인 계산 방식은 각 1개씩 계산, 반면에 CNN은 필터(커널)를 활용하여 계산\n",
        "- 파급효과\n",
        "  + (은행) 손글씨 판별기를 만듬 / 상업화 성공\n",
        "  + 다양한 아류(개선된) 논문들이 쏟아져 나오기 시작\n",
        "  + 1998년도, LeNet \n",
        "  + 2012년도, AlexNet\n",
        "  + ... VGGNet, GoogleNext\n",
        "  + 2015년도 ResNet의 성능이 사람을 능가하기 시작 --> 영상인식 알고리즘 발전에 도움을 주기 시작"
      ]
    },
    {
      "cell_type": "markdown",
      "metadata": {
        "id": "pDn6Hh-uo3fb"
      },
      "source": [
        "## 패션 MNIST 데이터 불러오기"
      ]
    },
    {
      "cell_type": "code",
      "execution_count": 1,
      "metadata": {
        "colab": {
          "base_uri": "https://localhost:8080/"
        },
        "id": "CV_Ni7u3B5PX",
        "outputId": "c610b10d-cde9-44c8-83bf-a9d05b0a97c2"
      },
      "outputs": [
        {
          "name": "stdout",
          "output_type": "stream",
          "text": [
            "Downloading data from https://storage.googleapis.com/tensorflow/tf-keras-datasets/train-labels-idx1-ubyte.gz\n",
            "29515/29515 [==============================] - 0s 0us/step\n",
            "Downloading data from https://storage.googleapis.com/tensorflow/tf-keras-datasets/train-images-idx3-ubyte.gz\n",
            "26421880/26421880 [==============================] - 0s 0us/step\n",
            "Downloading data from https://storage.googleapis.com/tensorflow/tf-keras-datasets/t10k-labels-idx1-ubyte.gz\n",
            "5148/5148 [==============================] - 0s 0us/step\n",
            "Downloading data from https://storage.googleapis.com/tensorflow/tf-keras-datasets/t10k-images-idx3-ubyte.gz\n",
            "4422102/4422102 [==============================] - 0s 0us/step\n"
          ]
        },
        {
          "data": {
            "text/plain": [
              "((60000, 28, 28), (60000,), (10000, 28, 28), (10000,))"
            ]
          },
          "execution_count": 1,
          "metadata": {},
          "output_type": "execute_result"
        }
      ],
      "source": [
        "from tensorflow import keras \n",
        "from sklearn.model_selection import train_test_split \n",
        "\n",
        "(train_input, train_target), (test_input, test_target) =\\\n",
        "  keras.datasets.fashion_mnist.load_data()\n",
        "\n",
        "train_input.shape, train_target.shape, test_input.shape, test_target.shape"
      ]
    },
    {
      "cell_type": "markdown",
      "metadata": {
        "id": "_0Wk8z2qpicv"
      },
      "source": [
        "- 기존 신경망 1차원 배열로 재정렬\n",
        "- 합성곱 신경망에서는 3차원 배열을 유지해야 함. \n",
        "- 흑백이미지인 경우도 3차원 배열로 정리"
      ]
    },
    {
      "cell_type": "code",
      "execution_count": 2,
      "metadata": {
        "colab": {
          "base_uri": "https://localhost:8080/"
        },
        "id": "_EjDsNB-qEyH",
        "outputId": "d08b0201-8f83-4b39-c267-1cb4eb19307b"
      },
      "outputs": [
        {
          "data": {
            "text/plain": [
              "(60000, 28, 28, 1)"
            ]
          },
          "execution_count": 2,
          "metadata": {},
          "output_type": "execute_result"
        }
      ],
      "source": [
        "train_scaled = train_input.reshape(-1, 28, 28, 1) / 255.0 \n",
        "train_scaled.shape"
      ]
    },
    {
      "cell_type": "markdown",
      "metadata": {
        "id": "jk4fQNWzqv_5"
      },
      "source": [
        "## 데이터셋 분리 "
      ]
    },
    {
      "cell_type": "code",
      "execution_count": 3,
      "metadata": {
        "colab": {
          "base_uri": "https://localhost:8080/"
        },
        "id": "YLpH9X3gqtcw",
        "outputId": "de720091-1978-4cd8-9815-fdda5802dfa1"
      },
      "outputs": [
        {
          "data": {
            "text/plain": [
              "((48000, 28, 28, 1), (12000, 28, 28, 1))"
            ]
          },
          "execution_count": 3,
          "metadata": {},
          "output_type": "execute_result"
        }
      ],
      "source": [
        "train_scaled, val_scaled, train_target, val_target = train_test_split(\n",
        "    train_scaled, train_target, test_size = 0.2, random_state=42\n",
        ")\n",
        "\n",
        "train_scaled.shape, val_scaled.shape"
      ]
    },
    {
      "cell_type": "markdown",
      "metadata": {
        "id": "fz4el2TYq_We"
      },
      "source": [
        "## 합성곱 신경망 만들기\n",
        "- 기본 코드의 컨셉은 다층 신경망 구현할 때와 똑같음. "
      ]
    },
    {
      "cell_type": "code",
      "execution_count": 4,
      "metadata": {
        "colab": {
          "base_uri": "https://localhost:8080/"
        },
        "id": "GYhx9rkgrGJa",
        "outputId": "26008fbb-2432-4a28-facc-3cafc37cc004"
      },
      "outputs": [
        {
          "name": "stdout",
          "output_type": "stream",
          "text": [
            "Model: \"sequential\"\n",
            "_________________________________________________________________\n",
            " Layer (type)                Output Shape              Param #   \n",
            "=================================================================\n",
            " conv2d (Conv2D)             (None, 28, 28, 32)        320       \n",
            "                                                                 \n",
            " max_pooling2d (MaxPooling2D  (None, 14, 14, 32)       0         \n",
            " )                                                               \n",
            "                                                                 \n",
            " conv2d_1 (Conv2D)           (None, 14, 14, 64)        18496     \n",
            "                                                                 \n",
            " max_pooling2d_1 (MaxPooling  (None, 7, 7, 64)         0         \n",
            " 2D)                                                             \n",
            "                                                                 \n",
            " flatten (Flatten)           (None, 3136)              0         \n",
            "                                                                 \n",
            " dense (Dense)               (None, 100)               313700    \n",
            "                                                                 \n",
            " dropout (Dropout)           (None, 100)               0         \n",
            "                                                                 \n",
            " dense_1 (Dense)             (None, 10)                1010      \n",
            "                                                                 \n",
            "=================================================================\n",
            "Total params: 333,526\n",
            "Trainable params: 333,526\n",
            "Non-trainable params: 0\n",
            "_________________________________________________________________\n"
          ]
        }
      ],
      "source": [
        "model = keras.Sequential()\n",
        "\n",
        "# 3차원\n",
        "                             # 32개 필터, 3 x 3 \n",
        "model.add(keras.layers.Conv2D(32, \n",
        "                              kernel_size=3, \n",
        "                              activation = 'relu', \n",
        "                              padding='same', \n",
        "                              input_shape=(28, 28, 1)))\n",
        "model.add(keras.layers.MaxPooling2D(2))\n",
        "model.add(keras.layers.Conv2D(64, \n",
        "                              kernel_size=3, \n",
        "                              activation = 'relu', \n",
        "                              padding='same'))\n",
        "model.add(keras.layers.MaxPooling2D(2))\n",
        "\n",
        "# 1차원\n",
        "model.add(keras.layers.Flatten())\n",
        "model.add(keras.layers.Dense(100, activation='relu'))\n",
        "model.add(keras.layers.Dropout(0.4))\n",
        "model.add(keras.layers.Dense(10, activation='softmax'))\n",
        "\n",
        "model.summary()\n"
      ]
    },
    {
      "cell_type": "markdown",
      "metadata": {
        "id": "-XuyZegHrpJd"
      },
      "source": [
        "원본 이미지\n",
        "-- Cov2D ... MaxPooling : 표본 샘플이 만들어짐\n"
      ]
    },
    {
      "cell_type": "code",
      "execution_count": 5,
      "metadata": {
        "colab": {
          "base_uri": "https://localhost:8080/",
          "height": 856
        },
        "id": "OQwWjc3kvQ5n",
        "outputId": "53fa6b22-3b04-4161-c232-88d1f650e2d8"
      },
      "outputs": [
        {
          "data": {
            "image/png": "[encoded data removed]",
            "text/plain": [
              "<IPython.core.display.Image object>"
            ]
          },
          "execution_count": 5,
          "metadata": {},
          "output_type": "execute_result"
        }
      ],
      "source": [
        "keras.utils.plot_model(model)"
      ]
    },
    {
      "cell_type": "markdown",
      "metadata": {
        "id": "M-wmtHBRvcrH"
      },
      "source": [
        "## 모형 훈련"
      ]
    },
    {
      "cell_type": "code",
      "execution_count": 6,
      "metadata": {
        "id": "9zlHC-M5vfXp"
      },
      "outputs": [],
      "source": [
        "model.compile(optimizer='adam', loss='sparse_categorical_crossentropy', \n",
        "              metrics='accuracy')"
      ]
    },
    {
      "cell_type": "markdown",
      "metadata": {
        "id": "xqciJU1xvkwM"
      },
      "source": [
        "## 모델 저장\n",
        "- 파이썬에서 모델을 저장한다. 그러나 자바에서는 쉽게 불러올 수 없다!\n",
        "- 별도의 작업이 필요하다!\n",
        "  + API 구성하던가!, Embeded 형태로 코드 구현하던가! 등 \n"
      ]
    },
    {
      "cell_type": "code",
      "execution_count": 7,
      "metadata": {
        "colab": {
          "base_uri": "https://localhost:8080/"
        },
        "id": "DE069evHvkZa",
        "outputId": "de899100-7b89-4ceb-ec0e-85a2b05521b1"
      },
      "outputs": [
        {
          "name": "stdout",
          "output_type": "stream",
          "text": [
            "Epoch 1/50\n",
            "1500/1500 [==============================] - 70s 46ms/step - loss: 0.5131 - accuracy: 0.8154 - val_loss: 0.3456 - val_accuracy: 0.8757\n",
            "Epoch 2/50\n",
            "1500/1500 [==============================] - 67s 45ms/step - loss: 0.3397 - accuracy: 0.8768 - val_loss: 0.2667 - val_accuracy: 0.8999\n",
            "Epoch 3/50\n",
            "1500/1500 [==============================] - 67s 45ms/step - loss: 0.2929 - accuracy: 0.8934 - val_loss: 0.2509 - val_accuracy: 0.9055\n",
            "Epoch 4/50\n",
            "1500/1500 [==============================] - 70s 47ms/step - loss: 0.2618 - accuracy: 0.9038 - val_loss: 0.2338 - val_accuracy: 0.9114\n",
            "Epoch 5/50\n",
            "1500/1500 [==============================] - 67s 45ms/step - loss: 0.2372 - accuracy: 0.9124 - val_loss: 0.2266 - val_accuracy: 0.9175\n",
            "Epoch 6/50\n",
            "1500/1500 [==============================] - 68s 45ms/step - loss: 0.2151 - accuracy: 0.9211 - val_loss: 0.2343 - val_accuracy: 0.9142\n",
            "Epoch 7/50\n",
            "1500/1500 [==============================] - 70s 46ms/step - loss: 0.1986 - accuracy: 0.9270 - val_loss: 0.2214 - val_accuracy: 0.9223\n",
            "Epoch 8/50\n",
            "1500/1500 [==============================] - 68s 45ms/step - loss: 0.1848 - accuracy: 0.9306 - val_loss: 0.2364 - val_accuracy: 0.9162\n",
            "Epoch 9/50\n",
            "1500/1500 [==============================] - 70s 47ms/step - loss: 0.1693 - accuracy: 0.9363 - val_loss: 0.2262 - val_accuracy: 0.9190\n"
          ]
        }
      ],
      "source": [
        "checkpoint_cb = keras.callbacks.ModelCheckpoint('best-cnn-model.h5', \n",
        "                                                save_best_only=True)\n",
        "\n",
        "early_stopping_cb = keras.callbacks.EarlyStopping(patience=2, \n",
        "                                                  restore_best_weights=True)\n",
        "\n",
        "history = model.fit(train_scaled, train_target, epochs=50, \n",
        "                    validation_data = (val_scaled, val_target), \n",
        "                    callbacks=[checkpoint_cb, early_stopping_cb]) "
      ]
    },
    {
      "cell_type": "markdown",
      "metadata": {
        "id": "KumsqeBr2-ti"
      },
      "source": [
        "## 모형 평가 그래프를 작성한다. "
      ]
    },
    {
      "cell_type": "code",
      "execution_count": 9,
      "metadata": {
        "colab": {
          "base_uri": "https://localhost:8080/",
          "height": 279
        },
        "id": "H0UimVY-vcRW",
        "outputId": "c9ad4759-0344-4631-8014-34ee850f5d29"
      },
      "outputs": [
        {
          "data": {
            "image/png": "[encoded data removed]",
            "text/plain": [
              "<Figure size 432x288 with 1 Axes>"
            ]
          },
          "metadata": {
            "needs_background": "light"
          },
          "output_type": "display_data"
        }
      ],
      "source": [
        "import matplotlib.pyplot as plt \n",
        "\n",
        "def eval_graph(history): \n",
        "  plt.plot(history.history['loss'])\n",
        "  plt.plot(history.history['val_loss'])\n",
        "  plt.xlabel('epoch')\n",
        "  plt.ylabel('loss')\n",
        "  plt.legend(['train', 'validation'])\n",
        "  plt.show()\n",
        "\n",
        "eval_graph(history)"
      ]
    },
    {
      "cell_type": "code",
      "execution_count": 10,
      "metadata": {
        "colab": {
          "base_uri": "https://localhost:8080/"
        },
        "id": "PrXxWzR43oo3",
        "outputId": "f24118e7-901d-42e2-e02c-b0e54d2e8677"
      },
      "outputs": [
        {
          "name": "stdout",
          "output_type": "stream",
          "text": [
            "375/375 [==============================] - 7s 18ms/step - loss: 0.2214 - accuracy: 0.9223\n"
          ]
        },
        {
          "data": {
            "text/plain": [
              "[0.22142228484153748, 0.9223333597183228]"
            ]
          },
          "execution_count": 10,
          "metadata": {},
          "output_type": "execute_result"
        }
      ],
      "source": [
        "model.evaluate(val_scaled, val_target)"
      ]
    },
    {
      "cell_type": "markdown",
      "metadata": {
        "id": "MO2iwQCn31z-"
      },
      "source": [
        "## 저장된 모델을 불러온다. "
      ]
    },
    {
      "cell_type": "code",
      "execution_count": 11,
      "metadata": {
        "colab": {
          "base_uri": "https://localhost:8080/"
        },
        "id": "Y9579JJz33TS",
        "outputId": "b09064f8-9c8e-4a94-d438-9e572dba0a6e"
      },
      "outputs": [
        {
          "name": "stdout",
          "output_type": "stream",
          "text": [
            "Model: \"sequential\"\n",
            "_________________________________________________________________\n",
            " Layer (type)                Output Shape              Param #   \n",
            "=================================================================\n",
            " conv2d (Conv2D)             (None, 28, 28, 32)        320       \n",
            "                                                                 \n",
            " max_pooling2d (MaxPooling2D  (None, 14, 14, 32)       0         \n",
            " )                                                               \n",
            "                                                                 \n",
            " conv2d_1 (Conv2D)           (None, 14, 14, 64)        18496     \n",
            "                                                                 \n",
            " max_pooling2d_1 (MaxPooling  (None, 7, 7, 64)         0         \n",
            " 2D)                                                             \n",
            "                                                                 \n",
            " flatten (Flatten)           (None, 3136)              0         \n",
            "                                                                 \n",
            " dense (Dense)               (None, 100)               313700    \n",
            "                                                                 \n",
            " dropout (Dropout)           (None, 100)               0         \n",
            "                                                                 \n",
            " dense_1 (Dense)             (None, 10)                1010      \n",
            "                                                                 \n",
            "=================================================================\n",
            "Total params: 333,526\n",
            "Trainable params: 333,526\n",
            "Non-trainable params: 0\n",
            "_________________________________________________________________\n"
          ]
        }
      ],
      "source": [
        "model2 = keras.models.load_model('/content/best-cnn-model.h5')\n",
        "model2.summary() "
      ]
    },
    {
      "cell_type": "code",
      "execution_count": 12,
      "metadata": {
        "colab": {
          "base_uri": "https://localhost:8080/"
        },
        "id": "slvuYKHe4QdY",
        "outputId": "15d50e3f-d882-4517-b2ab-7c302e1173b4"
      },
      "outputs": [
        {
          "name": "stdout",
          "output_type": "stream",
          "text": [
            "375/375 [==============================] - 5s 13ms/step - loss: 0.2214 - accuracy: 0.9223\n"
          ]
        },
        {
          "data": {
            "text/plain": [
              "[0.22142228484153748, 0.9223333597183228]"
            ]
          },
          "execution_count": 12,
          "metadata": {},
          "output_type": "execute_result"
        }
      ],
      "source": [
        "model2.evaluate(val_scaled, val_target)"
      ]
    },
    {
      "cell_type": "markdown",
      "metadata": {
        "id": "STUV1kQr3nh-"
      },
      "source": []
    }
  ],
  "metadata": {
    "colab": {
      "provenance": []
    },
    "kernelspec": {
      "display_name": "Python 3",
      "name": "python3"
    },
    "language_info": {
      "name": "python"
    }
  },
  "nbformat": 4,
  "nbformat_minor": 0
}
