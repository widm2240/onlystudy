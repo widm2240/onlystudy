{
  "cells": [
    {
      "cell_type": "markdown",
      "id": "c90d8757",
      "metadata": {
        "id": "c90d8757",
        "papermill": {
          "duration": 0.097221,
          "end_time": "2022-04-12T03:17:30.871197",
          "exception": false,
          "start_time": "2022-04-12T03:17:30.773976",
          "status": "completed"
        },
        "tags": []
      },
      "source": [
        "# 프로젝트 개요\n",
        "- 강의명 : (산대특)_공공데이터 활용 빅데이터 분석 및 시각화 전문가 과정 육성\n",
        "- 교과목명 : 빅데이터 시스템 구축\n",
        "- 프로젝트 주제 : PySpark 설치 및 Spark를 활용한 머신러닝 개발\n",
        "- 프로젝트 마감일 : 2022년 11월 17일 목요일\n",
        "- 수강생명 : 홍길동"
      ]
    },
    {
      "cell_type": "markdown",
      "id": "TI9kEJ4vJ_U9",
      "metadata": {
        "id": "TI9kEJ4vJ_U9"
      },
      "source": [
        "## 옵션\n",
        "- 한글 서체 설치"
      ]
    },
    {
      "cell_type": "code",
      "execution_count": null,
      "id": "9ae0Fjm1J-eX",
      "metadata": {
        "colab": {
          "base_uri": "https://localhost:8080/"
        },
        "id": "9ae0Fjm1J-eX",
        "outputId": "ed3d56c2-c76c-4f78-a03e-1b82ce47d60e"
      },
      "outputs": [
        {
          "name": "stdout",
          "output_type": "stream",
          "text": [
            "Reading package lists... Done\n",
            "Building dependency tree       \n",
            "Reading state information... Done\n",
            "The following package was automatically installed and is no longer required:\n",
            "  libnvidia-common-460\n",
            "Use 'sudo apt autoremove' to remove it.\n",
            "The following NEW packages will be installed:\n",
            "  fonts-nanum\n",
            "0 upgraded, 1 newly installed, 0 to remove and 4 not upgraded.\n",
            "Need to get 9,604 kB of archives.\n",
            "After this operation, 29.5 MB of additional disk space will be used.\n",
            "Get:1 http://archive.ubuntu.com/ubuntu bionic/universe amd64 fonts-nanum all 20170925-1 [9,604 kB]\n",
            "Fetched 9,604 kB in 1s (8,968 kB/s)\n",
            "debconf: unable to initialize frontend: Dialog\n",
            "debconf: (No usable dialog-like program is installed, so the dialog based frontend cannot be used. at /usr/share/perl5/Debconf/FrontEnd/Dialog.pm line 76, <> line 1.)\n",
            "debconf: falling back to frontend: Readline\n",
            "debconf: unable to initialize frontend: Readline\n",
            "debconf: (This frontend requires a controlling tty.)\n",
            "debconf: falling back to frontend: Teletype\n",
            "dpkg-preconfigure: unable to re-open stdin: \n",
            "Selecting previously unselected package fonts-nanum.\n",
            "(Reading database ... 123942 files and directories currently installed.)\n",
            "Preparing to unpack .../fonts-nanum_20170925-1_all.deb ...\n",
            "Unpacking fonts-nanum (20170925-1) ...\n",
            "Setting up fonts-nanum (20170925-1) ...\n",
            "Processing triggers for fontconfig (2.12.6-0ubuntu2) ...\n",
            "/usr/share/fonts: caching, new cache contents: 0 fonts, 1 dirs\n",
            "/usr/share/fonts/truetype: caching, new cache contents: 0 fonts, 3 dirs\n",
            "/usr/share/fonts/truetype/humor-sans: caching, new cache contents: 1 fonts, 0 dirs\n",
            "/usr/share/fonts/truetype/liberation: caching, new cache contents: 16 fonts, 0 dirs\n",
            "/usr/share/fonts/truetype/nanum: caching, new cache contents: 10 fonts, 0 dirs\n",
            "/usr/local/share/fonts: caching, new cache contents: 0 fonts, 0 dirs\n",
            "/root/.local/share/fonts: skipping, no such directory\n",
            "/root/.fonts: skipping, no such directory\n",
            "/var/cache/fontconfig: cleaning cache directory\n",
            "/root/.cache/fontconfig: not cleaning non-existent cache directory\n",
            "/root/.fontconfig: not cleaning non-existent cache directory\n",
            "fc-cache: succeeded\n"
          ]
        }
      ],
      "source": [
        "#한글 서체 설치 # 생략 가능\n",
        "#실행하려면 다음 코드 앞의 #를 삭제한 후 실행해주세요. \n",
        "\n",
        "!sudo apt-get install -y fonts-nanum\n",
        "!sudo fc-cache -fv\n",
        "!rm ~/.cache/matplotlib -rf"
      ]
    },
    {
      "cell_type": "code",
      "execution_count": null,
      "id": "ppy0HEx1KEe9",
      "metadata": {
        "id": "ppy0HEx1KEe9"
      },
      "outputs": [],
      "source": [
        "#설치 후 런타임 > 런타임 다시 시작을 해줘야 합니다. \n",
        "#이 과정이 싫다면 건너 뛰어도 상관없습니다. 실행하려면 다음 코드 앞의 #을 삭제해주세요.\n",
        "import matplotlib.pyplot as plt\n",
        "\n",
        "plt.rc('font', family='NanumBarunGothic')"
      ]
    },
    {
      "cell_type": "markdown",
      "id": "weippwQiQO_r",
      "metadata": {
        "id": "weippwQiQO_r"
      },
      "source": [
        "## 평가 1. PySpark 설치 (20점)\n",
        "- PySpark를 설치하는 코드를 작성한다. \n",
        "  + 조건 1. JAVA 설치\n",
        "  + 조건 2. Spark 설치 (Spark 3.2.0 버전)\n",
        "    * 참조 : https://spark.apache.org/downloads.html\n",
        "  + 조건 3. 환경변수\n",
        "  + 조건 4. PySpark 라이브러리 불러오기"
      ]
    },
    {
      "cell_type": "code",
      "execution_count": null,
      "id": "-dTJcD9GQVjN",
      "metadata": {
        "id": "-dTJcD9GQVjN"
      },
      "outputs": [],
      "source": [
        "# JAVA 설치\n",
        "!apt-get install openjdk-8-jdk-headless -qq > /dev/null\n",
        "\n",
        "# 스파크 다운로드\n",
        "!wget -q https://archive.apache.org/dist/spark/spark-3.2.0/spark-3.2.0-bin-hadoop3.2.tgz\n",
        "\n",
        "# 압축파일 해제\n",
        "!tar xf spark-3.2.0-bin-hadoop3.2.tgz"
      ]
    },
    {
      "cell_type": "code",
      "execution_count": null,
      "id": "W2oUADhCRnu1",
      "metadata": {
        "id": "W2oUADhCRnu1"
      },
      "outputs": [],
      "source": [
        "import os\n",
        "os.environ[\"JAVA_HOME\"] = \"/usr/lib/jvm/java-8-openjdk-amd64\"\n",
        "os.environ[\"SPARK_HOME\"] = '/content/spark-3.2.0-bin-hadoop3.2'"
      ]
    },
    {
      "cell_type": "markdown",
      "id": "_qXQewypSFzs",
      "metadata": {
        "id": "_qXQewypSFzs"
      },
      "source": [
        "- PySpark 설치"
      ]
    },
    {
      "cell_type": "code",
      "execution_count": null,
      "id": "keDUDJr9SJaE",
      "metadata": {
        "colab": {
          "base_uri": "https://localhost:8080/"
        },
        "id": "keDUDJr9SJaE",
        "outputId": "4567fa5d-cc7f-4748-bd94-8767923d66e6"
      },
      "outputs": [
        {
          "name": "stdout",
          "output_type": "stream",
          "text": [
            "Looking in indexes: https://pypi.org/simple, https://us-python.pkg.dev/colab-wheels/public/simple/\n",
            "Collecting pyspark==3.2.0\n",
            "  Downloading pyspark-3.2.0.tar.gz (281.3 MB)\n",
            "\u001b[K     |████████████████████████████████| 281.3 MB 44 kB/s \n",
            "\u001b[?25hCollecting py4j==0.10.9.2\n",
            "  Downloading py4j-0.10.9.2-py2.py3-none-any.whl (198 kB)\n",
            "\u001b[K     |████████████████████████████████| 198 kB 68.7 MB/s \n",
            "\u001b[?25hBuilding wheels for collected packages: pyspark\n",
            "  Building wheel for pyspark (setup.py) ... \u001b[?25l\u001b[?25hdone\n",
            "  Created wheel for pyspark: filename=pyspark-3.2.0-py2.py3-none-any.whl size=281805913 sha256=9ec90ab99b79a55764146fd46a17cad52b466269cce1ec482c8fb71a9fd3ebe4\n",
            "  Stored in directory: /root/.cache/pip/wheels/0b/de/d2/9be5d59d7331c6c2a7c1b6d1a4f463ce107332b1ecd4e80718\n",
            "Successfully built pyspark\n",
            "Installing collected packages: py4j, pyspark\n",
            "Successfully installed py4j-0.10.9.2 pyspark-3.2.0\n"
          ]
        }
      ],
      "source": [
        "!pip install pyspark==3.2.0"
      ]
    },
    {
      "cell_type": "code",
      "execution_count": null,
      "id": "1NrxiautShFz",
      "metadata": {
        "colab": {
          "base_uri": "https://localhost:8080/"
        },
        "id": "1NrxiautShFz",
        "outputId": "eaa03a61-3862-40ea-90c5-5ed610594ab1"
      },
      "outputs": [
        {
          "name": "stdout",
          "output_type": "stream",
          "text": [
            "3.2.0\n"
          ]
        }
      ],
      "source": [
        "import pyspark \n",
        "print(pyspark.__version__)"
      ]
    },
    {
      "cell_type": "markdown",
      "id": "NNcd_QQ8UQl2",
      "metadata": {
        "id": "NNcd_QQ8UQl2"
      },
      "source": [
        "## 평가 2. Spark 세션 생성 작성 (10점)\n",
        "- Spark 세션을 생성하는 코드를 작성한다. \n",
        "  + 조건 1. master: local[1]\n",
        "  + 조건 2. appName: human\n",
        "  + 조건 3. spark 버전 확인"
      ]
    },
    {
      "cell_type": "code",
      "execution_count": null,
      "id": "6ww0QUQRUlcU",
      "metadata": {
        "colab": {
          "base_uri": "https://localhost:8080/"
        },
        "id": "6ww0QUQRUlcU",
        "outputId": "ace0f312-4d91-4b11-bd31-1a36e42bd7a6"
      },
      "outputs": [
        {
          "name": "stdout",
          "output_type": "stream",
          "text": [
            "3.2.0\n"
          ]
        }
      ],
      "source": [
        "from pyspark.sql import SparkSession\n",
        "spark = SparkSession.builder.master('local[1]').appName('human').getOrCreate()\n",
        "print(spark.version)"
      ]
    },
    {
      "cell_type": "markdown",
      "id": "6IfcJyN5Z1JG",
      "metadata": {
        "id": "6IfcJyN5Z1JG"
      },
      "source": [
        "## 평가 3. 구글 드라이브 연동 및 파일 확인 (10점)\n",
        "- 구글 드라이브에 data 폴더와 연동하여 실제 데이터가 존재하는지 출력한다. \n",
        "  + 처음 4개만 출력한다. "
      ]
    },
    {
      "cell_type": "code",
      "execution_count": null,
      "id": "0ciLNT1dKiFJ",
      "metadata": {
        "colab": {
          "base_uri": "https://localhost:8080/"
        },
        "id": "0ciLNT1dKiFJ",
        "outputId": "3dd30ee4-2a9c-42ef-bca2-b07803a0f6b3"
      },
      "outputs": [
        {
          "name": "stdout",
          "output_type": "stream",
          "text": [
            "Mounted at /content/drive\n"
          ]
        }
      ],
      "source": [
        "from google.colab import drive\n",
        "drive.mount(\"/content/drive\")"
      ]
    },
    {
      "cell_type": "code",
      "execution_count": null,
      "id": "7j4iQgdOK6bT",
      "metadata": {
        "colab": {
          "base_uri": "https://localhost:8080/"
        },
        "id": "7j4iQgdOK6bT",
        "outputId": "1f9949b7-35c0-420a-f36b-97f7c2366592"
      },
      "outputs": [
        {
          "name": "stdout",
          "output_type": "stream",
          "text": [
            "데이터 행의 갯수는 50000 이다.\n",
            "+---+---+---+-------+------+---+----+------+--------+-----+\n",
            "|mon|dom|dow|carrier|flight|org|mile|depart|duration|delay|\n",
            "+---+---+---+-------+------+---+----+------+--------+-----+\n",
            "| 11| 20|  6|     US|    19|JFK|2153|  9.48|     351| null|\n",
            "|  0| 22|  2|     UA|  1107|ORD| 316| 16.33|      82|   30|\n",
            "|  2| 20|  4|     UA|   226|SFO| 337|  6.17|      82|   -8|\n",
            "|  9| 13|  1|     AA|   419|ORD|1236| 10.33|     195|   -5|\n",
            "+---+---+---+-------+------+---+----+------+--------+-----+\n",
            "only showing top 4 rows\n",
            "\n"
          ]
        }
      ],
      "source": [
        "import glob\n",
        "import matplotlib.pyplot as plt\n",
        "import matplotlib.image as mpimg\n",
        "\n",
        "DATA_PATH = \"/content/drive/MyDrive/Colab Notebooks/2022/human/산대특/평가/7차시 빅데이터 시스템 구축/data/\"\n",
        "\n",
        "# 코드\n",
        "flights = spark.read.csv(DATA_PATH + 'flights.csv',\n",
        "                         sep=',',\n",
        "                         header=True,\n",
        "                         inferSchema=True,\n",
        "                         nullValue='NA')\n",
        "\n",
        "print(f'데이터 행의 갯수는 {flights.count()} 이다.')\n",
        "flights.show(4)"
      ]
    },
    {
      "cell_type": "markdown",
      "id": "WSgLnxdrxLeW",
      "metadata": {
        "id": "WSgLnxdrxLeW"
      },
      "source": [
        "- 컬럼명 소개는 다음과 같다. \n",
        "  + mon — month (integer between 1 and 12)\n",
        "  + dom — day of month (integer between 1 and 31)\n",
        "  + dow — day of week (integer; 1 = Monday and 7 = Sunday)\n",
        "  + carrier — carrier (IATA code)\n",
        "  + flight — flight number\n",
        "  + org — origin airport (IATA code)\n",
        "  + mile — distance (miles)\n",
        "  + depart — departure time (decimal hour)\n",
        "  + duration — expected duration (minutes)\n",
        "  + delay — delay (minutes)\n",
        "- ITTA Code 주소\n",
        "  + https://en.wikipedia.org/wiki/List_of_airline_codes"
      ]
    },
    {
      "cell_type": "markdown",
      "id": "CLKLoMHzN2xm",
      "metadata": {
        "id": "CLKLoMHzN2xm"
      },
      "source": [
        "## 평가 4. 데이터 시각화 (20점)\n",
        "- 주어진 스파크 데이터를 pandas로 변환한 후, 시각화를 작성한다. \n",
        "- 종속변수는 duration이고, 나머지는 모두 독립변수로 처리한다. \n",
        "- 그래프 종류는 다음과 같다. 각 5점부여 \n",
        "  + 산점도 1개\n",
        "  + 박스플롯 1개\n",
        "  + 히스토그램 1개\n",
        "  + 막대그래프 (count plot) 1개"
      ]
    },
    {
      "cell_type": "code",
      "execution_count": null,
      "id": "5gGJnUl6eR-m",
      "metadata": {
        "colab": {
          "base_uri": "https://localhost:8080/"
        },
        "id": "5gGJnUl6eR-m",
        "outputId": "29999948-a330-44e8-a65b-7c87e0873079"
      },
      "outputs": [
        {
          "name": "stdout",
          "output_type": "stream",
          "text": [
            "(50000, 10)\n",
            "(47022, 10)\n"
          ]
        }
      ],
      "source": [
        "import pandas as pd \n",
        "import seaborn as sns \n",
        "import matplotlib.pyplot as plt\n",
        "\n",
        "data = flights.toPandas()\n",
        "print(data.shape) # (50000, 10)\n",
        "\n",
        "# 데이터 전처리 - 1. 결측치 제거\n",
        "data2 = data.dropna(axis = 0)\n",
        "print(data2.shape) # (47022, 10)"
      ]
    },
    {
      "cell_type": "code",
      "execution_count": null,
      "id": "U_YcwFVNKt4k",
      "metadata": {
        "colab": {
          "base_uri": "https://localhost:8080/",
          "height": 369
        },
        "id": "U_YcwFVNKt4k",
        "outputId": "9c4f2ac9-6b3d-4376-f408-61cdc1c4fa8d"
      },
      "outputs": [
        {
          "data": {
            "image/png": "[encoded data removed]",
            "text/plain": [
              "<Figure size 360x360 with 1 Axes>"
            ]
          },
          "metadata": {
            "needs_background": "light"
          },
          "output_type": "display_data"
        }
      ],
      "source": [
        "# 박스플롯 예\n",
        "sns.catplot(data=data2, x=\"org\", y=\"duration\", kind='box')\n",
        "plt.show()"
      ]
    },
    {
      "cell_type": "code",
      "execution_count": null,
      "id": "eieLht53K4oT",
      "metadata": {
        "colab": {
          "base_uri": "https://localhost:8080/",
          "height": 369
        },
        "id": "eieLht53K4oT",
        "outputId": "0b4e3d47-327f-4c2d-f8d7-c9f805d69eed"
      },
      "outputs": [
        {
          "data": {
            "image/png": "[encoded data removed]",
            "text/plain": [
              "<Figure size 360x360 with 1 Axes>"
            ]
          },
          "metadata": {
            "needs_background": "light"
          },
          "output_type": "display_data"
        }
      ],
      "source": [
        "# 히스토그램 예\n",
        "sns.displot(data=data2, x=\"duration\")\n",
        "plt.show()"
      ]
    },
    {
      "cell_type": "code",
      "execution_count": null,
      "id": "xOWZpVXOKudL",
      "metadata": {
        "colab": {
          "base_uri": "https://localhost:8080/",
          "height": 279
        },
        "id": "xOWZpVXOKudL",
        "outputId": "adab1776-f1bf-489f-acbc-a7a6c4671a3f"
      },
      "outputs": [
        {
          "data": {
            "image/png": "[encoded data removed]",
            "text/plain": [
              "<Figure size 432x288 with 1 Axes>"
            ]
          },
          "metadata": {
            "needs_background": "light"
          },
          "output_type": "display_data"
        }
      ],
      "source": [
        "# 막대그래프 (count plot) 예\n",
        "sns.countplot(data=data2, x=\"org\")\n",
        "plt.show()"
      ]
    },
    {
      "cell_type": "markdown",
      "id": "lGZlrGsc5ivw",
      "metadata": {
        "id": "lGZlrGsc5ivw"
      },
      "source": [
        "## 평가 5. Spark Feature Enginnering (30점)\n",
        "- flgiths 데이터를 활용하여 각 조건에 맞추어 Feature Engineering을 진행한다. "
      ]
    },
    {
      "cell_type": "markdown",
      "id": "I3MXAp8d7Sqp",
      "metadata": {
        "id": "I3MXAp8d7Sqp"
      },
      "source": [
        "- 조건 1. 결측치 및 컬럼 제거 (5점)\n",
        "  + 결측치 제거\n",
        "  + flight 컬럼 제거"
      ]
    },
    {
      "cell_type": "code",
      "execution_count": null,
      "id": "a6ZqPyo57jGo",
      "metadata": {
        "colab": {
          "base_uri": "https://localhost:8080/"
        },
        "id": "a6ZqPyo57jGo",
        "outputId": "31b9e774-6e8e-414b-fb5e-c2dd61fb87df"
      },
      "outputs": [
        {
          "name": "stdout",
          "output_type": "stream",
          "text": [
            "(50000, 10)\n"
          ]
        }
      ],
      "source": [
        "print((flights.count(), len(flights.columns)))"
      ]
    },
    {
      "cell_type": "code",
      "execution_count": null,
      "id": "V645_5-D76_Q",
      "metadata": {
        "colab": {
          "base_uri": "https://localhost:8080/"
        },
        "id": "V645_5-D76_Q",
        "outputId": "124c7430-9a63-4f22-b805-43a857b87deb"
      },
      "outputs": [
        {
          "name": "stdout",
          "output_type": "stream",
          "text": [
            "(47022, 10)\n"
          ]
        }
      ],
      "source": [
        "flights2 = flights.dropna()\n",
        "print((flights2.count(), len(flights2.columns)))"
      ]
    },
    {
      "cell_type": "code",
      "execution_count": null,
      "id": "f6Iectse8GYh",
      "metadata": {
        "colab": {
          "base_uri": "https://localhost:8080/"
        },
        "id": "f6Iectse8GYh",
        "outputId": "8de6955b-bfb3-4a9a-9ae4-dc3e71ac7053"
      },
      "outputs": [
        {
          "name": "stdout",
          "output_type": "stream",
          "text": [
            "(47022, 9)\n"
          ]
        }
      ],
      "source": [
        "flights3 = flights2.drop('flight')\n",
        "print((flights3.count(), len(flights3.columns)))"
      ]
    },
    {
      "cell_type": "markdown",
      "id": "GBHe8q4u8LJS",
      "metadata": {
        "id": "GBHe8q4u8LJS"
      },
      "source": [
        "- 조건 2. km 컬럼 생성 (5점)\n",
        "  + miles로 된 컬럼을 km으로 변경하도록 한다. 대신, mile 컬럼은 제거한다. "
      ]
    },
    {
      "cell_type": "code",
      "execution_count": null,
      "id": "fzqQ4N0n8YZ3",
      "metadata": {
        "colab": {
          "base_uri": "https://localhost:8080/"
        },
        "id": "fzqQ4N0n8YZ3",
        "outputId": "ae72cd90-1156-49a2-d970-899adbc48b8e"
      },
      "outputs": [
        {
          "name": "stdout",
          "output_type": "stream",
          "text": [
            "(47022, 9)\n",
            "+---+---+---+-------+---+------+--------+-----+------+\n",
            "|mon|dom|dow|carrier|org|depart|duration|delay|    km|\n",
            "+---+---+---+-------+---+------+--------+-----+------+\n",
            "|  0| 22|  2|     UA|ORD| 16.33|      82|   30| 509.0|\n",
            "|  2| 20|  4|     UA|SFO|  6.17|      82|   -8| 542.0|\n",
            "|  9| 13|  1|     AA|ORD| 10.33|     195|   -5|1989.0|\n",
            "|  5|  2|  1|     UA|SFO|  7.98|     102|    2| 885.0|\n",
            "+---+---+---+-------+---+------+--------+-----+------+\n",
            "only showing top 4 rows\n",
            "\n",
            "None\n"
          ]
        }
      ],
      "source": [
        "from pyspark.sql.functions import round\n",
        "\n",
        "flights4 = flights3.withColumn('km', round(flights3.mile * 1.60934, 0)).drop('mile')\n",
        "print((flights4.count(), len(flights4.columns)))\n",
        "print(flights4.show(4))"
      ]
    },
    {
      "cell_type": "markdown",
      "id": "RG-q--Mg-t0r",
      "metadata": {
        "id": "RG-q--Mg-t0r"
      },
      "source": [
        "- 조건 3. 원핫인코딩 (10점)\n",
        "  + carrier와 org 컬럼을 모두 문자열이다. "
      ]
    },
    {
      "cell_type": "code",
      "execution_count": null,
      "id": "WkFRr9Rj_CA0",
      "metadata": {
        "colab": {
          "base_uri": "https://localhost:8080/"
        },
        "id": "WkFRr9Rj_CA0",
        "outputId": "799a5a7f-4505-4a65-bf1e-8a098eb234a6"
      },
      "outputs": [
        {
          "name": "stdout",
          "output_type": "stream",
          "text": [
            "(47022, 11)\n",
            "+---+---+---+-------+---+------+--------+-----+------+-----------+-------+\n",
            "|mon|dom|dow|carrier|org|depart|duration|delay|    km|carrier_idx|org_idx|\n",
            "+---+---+---+-------+---+------+--------+-----+------+-----------+-------+\n",
            "|  0| 22|  2|     UA|ORD| 16.33|      82|   30| 509.0|        0.0|    0.0|\n",
            "|  2| 20|  4|     UA|SFO|  6.17|      82|   -8| 542.0|        0.0|    1.0|\n",
            "|  9| 13|  1|     AA|ORD| 10.33|     195|   -5|1989.0|        1.0|    0.0|\n",
            "|  5|  2|  1|     UA|SFO|  7.98|     102|    2| 885.0|        0.0|    1.0|\n",
            "+---+---+---+-------+---+------+--------+-----+------+-----------+-------+\n",
            "only showing top 4 rows\n",
            "\n",
            "None\n"
          ]
        }
      ],
      "source": [
        "from pyspark.ml.feature import StringIndexer\n",
        "\n",
        "carrier_indexer = StringIndexer(inputCol='carrier', outputCol='carrier_idx')\n",
        "carrier_indexer_model = carrier_indexer.fit(flights4)\n",
        "\n",
        "org_indexer = StringIndexer(inputCol='org', outputCol='org_idx')\n",
        "org_indexer_model = org_indexer.fit(flights4)\n",
        "\n",
        "flights5 = carrier_indexer_model.transform(flights4)\n",
        "flights5 = org_indexer_model.transform(flights5)\n",
        "\n",
        "print((flights5.count(), len(flights5.columns)))\n",
        "print(flights5.show(4))"
      ]
    },
    {
      "cell_type": "code",
      "execution_count": null,
      "id": "7lcsCMHb-jt5",
      "metadata": {
        "colab": {
          "base_uri": "https://localhost:8080/"
        },
        "id": "7lcsCMHb-jt5",
        "outputId": "0f42b557-d012-48f4-97bb-cf1430c09416"
      },
      "outputs": [
        {
          "name": "stdout",
          "output_type": "stream",
          "text": [
            "(47022, 13)\n",
            "+---+---+---+-------+---+------+--------+-----+------+-----------+-------+-------------+-------------+\n",
            "|mon|dom|dow|carrier|org|depart|duration|delay|    km|carrier_idx|org_idx|    org_dummy|carrier_dummy|\n",
            "+---+---+---+-------+---+------+--------+-----+------+-----------+-------+-------------+-------------+\n",
            "|  0| 22|  2|     UA|ORD| 16.33|      82|   30| 509.0|        0.0|    0.0|(7,[0],[1.0])|(8,[0],[1.0])|\n",
            "|  2| 20|  4|     UA|SFO|  6.17|      82|   -8| 542.0|        0.0|    1.0|(7,[1],[1.0])|(8,[0],[1.0])|\n",
            "|  9| 13|  1|     AA|ORD| 10.33|     195|   -5|1989.0|        1.0|    0.0|(7,[0],[1.0])|(8,[1],[1.0])|\n",
            "|  5|  2|  1|     UA|SFO|  7.98|     102|    2| 885.0|        0.0|    1.0|(7,[1],[1.0])|(8,[0],[1.0])|\n",
            "+---+---+---+-------+---+------+--------+-----+------+-----------+-------+-------------+-------------+\n",
            "only showing top 4 rows\n",
            "\n",
            "None\n"
          ]
        }
      ],
      "source": [
        "from pyspark.ml.feature import OneHotEncoder\n",
        "\n",
        "org_onehot = OneHotEncoder(inputCols=['org_idx'], outputCols=['org_dummy'])\n",
        "org_onehot = org_onehot.fit(flights5)\n",
        "flights6 = org_onehot.transform(flights5)\n",
        "\n",
        "carrier_onehot = OneHotEncoder(inputCols=['carrier_idx'], outputCols=['carrier_dummy'])\n",
        "carrier_onehot = carrier_onehot.fit(flights6)\n",
        "flights6 = carrier_onehot.transform(flights6)\n",
        "\n",
        "# 결과 확인\n",
        "print((flights6.count(), len(flights6.columns)))\n",
        "print(flights6.show(4))"
      ]
    },
    {
      "cell_type": "markdown",
      "id": "ghPIWn7kFZEZ",
      "metadata": {
        "id": "ghPIWn7kFZEZ"
      },
      "source": [
        "- 조건 4. 중요 컬럼만 취합하여 행렬로 변환하는 코드를 작성한다. (10점)\n",
        "  + 이 때, carrier와 org는 선택하지 않는다. "
      ]
    },
    {
      "cell_type": "code",
      "execution_count": null,
      "id": "mEAQhBc4Fjgq",
      "metadata": {
        "colab": {
          "base_uri": "https://localhost:8080/"
        },
        "id": "mEAQhBc4Fjgq",
        "outputId": "b5d7efb3-c9cc-4f6f-8a7f-05e4d6acb195"
      },
      "outputs": [
        {
          "name": "stdout",
          "output_type": "stream",
          "text": [
            "+-------------------------------------------------------------------+--------+\n",
            "|features                                                           |duration|\n",
            "+-------------------------------------------------------------------+--------+\n",
            "|(21,[1,2,3,10,18,19,20],[22.0,2.0,1.0,1.0,509.0,16.33,30.0])       |82      |\n",
            "|(21,[0,1,2,4,10,18,19,20],[2.0,20.0,4.0,1.0,1.0,542.0,6.17,-8.0])  |82      |\n",
            "|(21,[0,1,2,3,11,18,19,20],[9.0,13.0,1.0,1.0,1.0,1989.0,10.33,-5.0])|195     |\n",
            "|(21,[0,1,2,4,10,18,19,20],[5.0,2.0,1.0,1.0,1.0,885.0,7.98,2.0])    |102     |\n",
            "|(21,[0,1,2,3,11,18,19,20],[7.0,2.0,6.0,1.0,1.0,1180.0,10.83,54.0]) |135     |\n",
            "+-------------------------------------------------------------------+--------+\n",
            "only showing top 5 rows\n",
            "\n"
          ]
        }
      ],
      "source": [
        "from pyspark.ml.feature import VectorAssembler\n",
        "\n",
        "# assembler 객체 생성\n",
        "assembler = VectorAssembler(inputCols=[\n",
        "    'mon', 'dom', 'dow', 'org_dummy', 'carrier_dummy', 'km', 'depart', 'delay'\n",
        "], outputCol='features')\n",
        "\n",
        "# 변환\n",
        "flights7 = assembler.transform(flights6)\n",
        "\n",
        "# 결과 확인\n",
        "flights7.select('features', 'duration').show(5, truncate=False)"
      ]
    },
    {
      "cell_type": "markdown",
      "id": "jGkniJH0F_U5",
      "metadata": {
        "id": "jGkniJH0F_U5"
      },
      "source": [
        "## 평가 6. PySpark 머신러닝 모형 개발 (10점)\n",
        "- 조건 1. PySpark 라이브러리를 활용하여 훈련 데이터와 테스트 데이터로 나누는 코드를 작성한다. (3점)\n",
        "  + scikit-learn 라이브러리 사용 안됨. "
      ]
    },
    {
      "cell_type": "code",
      "execution_count": null,
      "id": "YYhRHjXFF8QT",
      "metadata": {
        "colab": {
          "base_uri": "https://localhost:8080/"
        },
        "id": "YYhRHjXFF8QT",
        "outputId": "7f736aee-f6ba-41dd-cfca-b0ad546393b3"
      },
      "outputs": [
        {
          "name": "stdout",
          "output_type": "stream",
          "text": [
            "0.75474\n"
          ]
        }
      ],
      "source": [
        "flights_train, flights_test = flights7.randomSplit([0.8, 0.2], seed=43)\n",
        "training_ratio = flights_train.count() / flights.count()\n",
        "print(training_ratio)"
      ]
    },
    {
      "cell_type": "markdown",
      "id": "DtfV8yLnJ0Or",
      "metadata": {
        "id": "DtfV8yLnJ0Or"
      },
      "source": [
        "- 조건 2. 선형회귀 모형 개발 (4점)\n",
        "  + 실제값과 예측값 각 5개가 포함되도록 한다. "
      ]
    },
    {
      "cell_type": "code",
      "execution_count": null,
      "id": "3ih6NqADGB_S",
      "metadata": {
        "colab": {
          "base_uri": "https://localhost:8080/"
        },
        "id": "3ih6NqADGB_S",
        "outputId": "3d9ed336-5792-4564-9b05-134618371aca"
      },
      "outputs": [
        {
          "name": "stdout",
          "output_type": "stream",
          "text": [
            "+--------+------------------+\n",
            "|duration|prediction        |\n",
            "+--------+------------------+\n",
            "|230     |259.8305924767669 |\n",
            "|250     |226.92216539023866|\n",
            "|170     |148.1840828629919 |\n",
            "|251     |239.66737081972488|\n",
            "|155     |137.81512059388567|\n",
            "+--------+------------------+\n",
            "only showing top 5 rows\n",
            "\n"
          ]
        }
      ],
      "source": [
        "from pyspark.ml.regression import LinearRegression\n",
        "\n",
        "regression = LinearRegression(labelCol='duration').fit(flights_train)\n",
        "predictions = regression.transform(flights_test)\n",
        "predictions.select('duration', 'prediction').show(5, False)"
      ]
    },
    {
      "cell_type": "markdown",
      "id": "BD-bQfzKJ5pq",
      "metadata": {
        "id": "BD-bQfzKJ5pq"
      },
      "source": [
        "- 조건 3. RMSE 평가지표 활용 (3점)"
      ]
    },
    {
      "cell_type": "code",
      "execution_count": null,
      "id": "SUveCjTwJ4-r",
      "metadata": {
        "colab": {
          "base_uri": "https://localhost:8080/"
        },
        "id": "SUveCjTwJ4-r",
        "outputId": "e9f12816-ce21-4316-8888-4f6a59ff8e25"
      },
      "outputs": [
        {
          "data": {
            "text/plain": [
              "10.891781129099007"
            ]
          },
          "execution_count": 43,
          "metadata": {},
          "output_type": "execute_result"
        }
      ],
      "source": [
        "from pyspark.ml.evaluation import RegressionEvaluator\n",
        "RegressionEvaluator(labelCol='duration').evaluate(predictions)"
      ]
    }
  ],
  "metadata": {
    "accelerator": "GPU",
    "colab": {
      "provenance": [],
      "toc_visible": true
    },
    "gpuClass": "standard",
    "kernelspec": {
      "display_name": "Python 3.10.7 ('venv': venv)",
      "language": "python",
      "name": "python3"
    },
    "language_info": {
      "codemirror_mode": {
        "name": "ipython",
        "version": 3
      },
      "file_extension": ".py",
      "mimetype": "text/x-python",
      "name": "python",
      "nbconvert_exporter": "python",
      "pygments_lexer": "ipython3",
      "version": "3.10.7"
    },
    "papermill": {
      "default_parameters": {},
      "duration": 137.030513,
      "end_time": "2022-04-12T03:19:39.192677",
      "environment_variables": {},
      "exception": null,
      "input_path": "__notebook__.ipynb",
      "output_path": "__notebook__.ipynb",
      "parameters": {},
      "start_time": "2022-04-12T03:17:22.162164",
      "version": "2.3.3"
    },
    "vscode": {
      "interpreter": {
        "hash": "ac7fc3feacdf1648304d8b9c9b9df8cebcf330cc0d92adf161440c7b0a8dcb59"
      }
    }
  },
  "nbformat": 4,
  "nbformat_minor": 5
}
